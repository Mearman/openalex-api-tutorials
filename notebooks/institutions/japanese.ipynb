{
 "cells": [
  {
   "attachments": {},
   "cell_type": "markdown",
   "metadata": {},
   "source": [
    "# Querying the OpenAlex data for works from Japan\n",
    "\n",
    "Our questions are:\n",
    "1. How many sources of scholarly works are in Japan?\n",
    "2. What are the types of these sources? Journals? Repositories? Conferences?\n",
    "    - For journals, what are the publishers?\n",
    "    - For repositories, what are the host organizations?\n",
    "3. What are the names of these sources?\n",
    "4. How many works have Japanese sources? How does this vary over time?\n"
   ]
  },
  {
   "cell_type": "code",
   "execution_count": 1,
   "metadata": {},
   "outputs": [],
   "source": [
    "import requests"
   ]
  },
  {
   "attachments": {},
   "cell_type": "markdown",
   "metadata": {},
   "source": [
    "### Question 1: How many sources of scholarly works are in Japan?\n",
    "\n",
    "Let's start with the first question: How many sources of scholarly works are in Japan?\n",
    "\n",
    "To do this, we will query the `/sources` API endpoint, and use a **filter** to limit it to sources where the `country_code` is `JP`."
   ]
  },
  {
   "cell_type": "code",
   "execution_count": 2,
   "metadata": {},
   "outputs": [
    {
     "name": "stdout",
     "output_type": "stream",
     "text": [
      "There are 2162 sources with country_code 'JP' (Japan)\n"
     ]
    }
   ],
   "source": [
    "country_code = 'JP'\n",
    "url = f\"https://api.openalex.org/sources\"\n",
    "params = {\n",
    "    'filter': f'country_code:{country_code}',\n",
    "}\n",
    "r = requests.get(url, params=params)\n",
    "num_sources = r.json()['meta']['count']\n",
    "print(f\"There are {num_sources} sources with country_code 'JP' (Japan)\")"
   ]
  },
  {
   "attachments": {},
   "cell_type": "markdown",
   "metadata": {},
   "source": [
    "### Question 2: What are the types of these sources?\n",
    "The next question is: What are the *types* of these sources. Possible types are listed in the API docs on the [Source object](https://docs.openalex.org/api-entities/venues/venue-object#type): `journal`, `repository`, `conference`, `ebook platform`.\n",
    "\n",
    "To answer this question, we can add a `group_by` to our API query, grouping by the `type` field and counting the number of sources:"
   ]
  },
  {
   "cell_type": "code",
   "execution_count": 7,
   "metadata": {},
   "outputs": [
    {
     "name": "stdout",
     "output_type": "stream",
     "text": [
      "Number of sources in Japan for each *type* of source:\n",
      "  \"journal\": 2162 sources\n"
     ]
    }
   ],
   "source": [
    "params = {\n",
    "    'filter': f'country_code:{country_code}',\n",
    "    'group_by': 'type',\n",
    "}\n",
    "r = requests.get(url, params=params)\n",
    "print(\"Number of sources in Japan for each *type* of source:\")\n",
    "for item in r.json()['group_by']:\n",
    "    print(f'  \"{item[\"key\"]}\": {item[\"count\"]} sources')"
   ]
  },
  {
   "attachments": {},
   "cell_type": "markdown",
   "metadata": {},
   "source": [
    "All of the Japanese sources are of type: `journal`. We are not seeing any of the other types of sources.\n",
    "\n",
    "Why is this? TODO"
   ]
  },
  {
   "attachments": {},
   "cell_type": "markdown",
   "metadata": {},
   "source": [
    "TODO introduce question 3"
   ]
  },
  {
   "cell_type": "code",
   "execution_count": 4,
   "metadata": {},
   "outputs": [
    {
     "name": "stdout",
     "output_type": "stream",
     "text": [
      "collected 2162 sources (using 88 api calls)\n"
     ]
    }
   ],
   "source": [
    "# page through to get all sources\n",
    "# use paging technique from `paging.ipynb`\n",
    "# url with a placeholder for page number\n",
    "country_code = 'JP'\n",
    "url = f\"https://api.openalex.org/sources\"\n",
    "params = {\n",
    "    'filter': f'country_code:{country_code}',\n",
    "    'page': 1,  # initaliaze `page` param to 1\n",
    "}\n",
    "\n",
    "has_more_pages = True\n",
    "fewer_than_10k_results = True\n",
    "\n",
    "japanese_sources = []\n",
    "\n",
    "# loop through pages\n",
    "loop_index = 0\n",
    "while has_more_pages and fewer_than_10k_results:\n",
    "    \n",
    "    page_with_results = requests.get(url, params=params).json()\n",
    "    \n",
    "    # loop through partial list of results\n",
    "    results = page_with_results['results']\n",
    "    for source in results:\n",
    "        japanese_sources.append(source)\n",
    "\n",
    "    # next page\n",
    "    params['page'] += 1\n",
    "    \n",
    "    # end loop when either there are no more results on the requested page \n",
    "    # or the next request would exceed 10,000 results\n",
    "    per_page = page_with_results['meta']['per_page']\n",
    "    has_more_pages = len(results) == per_page\n",
    "    fewer_than_10k_results = per_page * params['page'] <= 10000\n",
    "    loop_index += 1\n",
    "print(f\"collected {len(japanese_sources)} sources (using {loop_index+1} api calls)\")"
   ]
  },
  {
   "cell_type": "code",
   "execution_count": 5,
   "metadata": {},
   "outputs": [
    {
     "name": "stdout",
     "output_type": "stream",
     "text": [
      "The Japanese sources are associated with 181 different host organizations (publishers).\n"
     ]
    }
   ],
   "source": [
    "from collections import Counter\n",
    "c = Counter([source['host_organization'] for source in japanese_sources if source['host_organization']])\n",
    "print(f\"The Japanese sources are associated with {len(c)} different host organizations (publishers).\")"
   ]
  },
  {
   "cell_type": "code",
   "execution_count": 6,
   "metadata": {},
   "outputs": [
    {
     "name": "stdout",
     "output_type": "stream",
     "text": [
      "There are 3700657 works (articles) with Japanese sources.\n"
     ]
    }
   ],
   "source": [
    "num_works = sum([source['works_count'] for source in japanese_sources])\n",
    "print(f\"There are {num_works} works (articles) with Japanese sources.\")"
   ]
  },
  {
   "cell_type": "code",
   "execution_count": null,
   "metadata": {},
   "outputs": [],
   "source": []
  },
  {
   "cell_type": "code",
   "execution_count": 14,
   "metadata": {},
   "outputs": [],
   "source": [
    "import pandas as pd\n",
    "data = []\n",
    "for source in japanese_sources:\n",
    "    data.append({\n",
    "        'id': source['id'].split('/')[-1],\n",
    "        'issn_l': source['issn_l'],\n",
    "        'display_name': source['display_name'],\n",
    "        'host_organization': source['host_organization'],\n",
    "        'works_count': source['works_count'],\n",
    "        'cited_by_count': source['cited_by_count'],\n",
    "        'type': source['type'],\n",
    "    })\n",
    "df = pd.DataFrame(data)"
   ]
  },
  {
   "cell_type": "code",
   "execution_count": 15,
   "metadata": {},
   "outputs": [
    {
     "data": {
      "text/html": [
       "<div>\n",
       "<style scoped>\n",
       "    .dataframe tbody tr th:only-of-type {\n",
       "        vertical-align: middle;\n",
       "    }\n",
       "\n",
       "    .dataframe tbody tr th {\n",
       "        vertical-align: top;\n",
       "    }\n",
       "\n",
       "    .dataframe thead th {\n",
       "        text-align: right;\n",
       "    }\n",
       "</style>\n",
       "<table border=\"1\" class=\"dataframe\">\n",
       "  <thead>\n",
       "    <tr style=\"text-align: right;\">\n",
       "      <th></th>\n",
       "      <th>id</th>\n",
       "      <th>issn_l</th>\n",
       "      <th>display_name</th>\n",
       "      <th>host_organization</th>\n",
       "      <th>works_count</th>\n",
       "      <th>cited_by_count</th>\n",
       "      <th>type</th>\n",
       "    </tr>\n",
       "  </thead>\n",
       "  <tbody>\n",
       "    <tr>\n",
       "      <th>0</th>\n",
       "      <td>S4210210193</td>\n",
       "      <td>0021-4728</td>\n",
       "      <td>Journal of the Japan Society of Mechanical Eng...</td>\n",
       "      <td>https://openalex.org/P4310313571</td>\n",
       "      <td>61499</td>\n",
       "      <td>62161</td>\n",
       "      <td>journal</td>\n",
       "    </tr>\n",
       "    <tr>\n",
       "      <th>1</th>\n",
       "      <td>S4210231715</td>\n",
       "      <td>0369-4305</td>\n",
       "      <td>Nippon Hoshasen Gijutsu Gakkai Zasshi</td>\n",
       "      <td>None</td>\n",
       "      <td>49470</td>\n",
       "      <td>52150</td>\n",
       "      <td>journal</td>\n",
       "    </tr>\n",
       "    <tr>\n",
       "      <th>2</th>\n",
       "      <td>S119212824</td>\n",
       "      <td>0031-9015</td>\n",
       "      <td>Journal of the Physical Society of Japan</td>\n",
       "      <td>https://openalex.org/P4310313296</td>\n",
       "      <td>44084</td>\n",
       "      <td>692627</td>\n",
       "      <td>journal</td>\n",
       "    </tr>\n",
       "    <tr>\n",
       "      <th>3</th>\n",
       "      <td>S2751469422</td>\n",
       "      <td>0047-1852</td>\n",
       "      <td>Nihon rinsho. Japanese journal of clinical med...</td>\n",
       "      <td>None</td>\n",
       "      <td>40379</td>\n",
       "      <td>46497</td>\n",
       "      <td>journal</td>\n",
       "    </tr>\n",
       "    <tr>\n",
       "      <th>4</th>\n",
       "      <td>S95305481</td>\n",
       "      <td>0009-2673</td>\n",
       "      <td>Bulletin of the Chemical Society of Japan</td>\n",
       "      <td>https://openalex.org/P4310320565</td>\n",
       "      <td>38084</td>\n",
       "      <td>526331</td>\n",
       "      <td>journal</td>\n",
       "    </tr>\n",
       "    <tr>\n",
       "      <th>...</th>\n",
       "      <td>...</td>\n",
       "      <td>...</td>\n",
       "      <td>...</td>\n",
       "      <td>...</td>\n",
       "      <td>...</td>\n",
       "      <td>...</td>\n",
       "      <td>...</td>\n",
       "    </tr>\n",
       "    <tr>\n",
       "      <th>2157</th>\n",
       "      <td>S4210228306</td>\n",
       "      <td>2185-7954</td>\n",
       "      <td>Seibutsu to kisho</td>\n",
       "      <td>None</td>\n",
       "      <td>0</td>\n",
       "      <td>1</td>\n",
       "      <td>journal</td>\n",
       "    </tr>\n",
       "    <tr>\n",
       "      <th>2158</th>\n",
       "      <td>S4210229600</td>\n",
       "      <td>0368-8887</td>\n",
       "      <td>Memoirs of the College of Science, University ...</td>\n",
       "      <td>https://openalex.org/P4310315698</td>\n",
       "      <td>0</td>\n",
       "      <td>1</td>\n",
       "      <td>journal</td>\n",
       "    </tr>\n",
       "    <tr>\n",
       "      <th>2159</th>\n",
       "      <td>S4210229661</td>\n",
       "      <td>1344-7661</td>\n",
       "      <td>Peptide science</td>\n",
       "      <td>None</td>\n",
       "      <td>0</td>\n",
       "      <td>1</td>\n",
       "      <td>journal</td>\n",
       "    </tr>\n",
       "    <tr>\n",
       "      <th>2160</th>\n",
       "      <td>S4210232673</td>\n",
       "      <td>0018-3482</td>\n",
       "      <td>Journal of the Faculty of Science, Hokkaido Un...</td>\n",
       "      <td>https://openalex.org/P4310313472</td>\n",
       "      <td>0</td>\n",
       "      <td>1</td>\n",
       "      <td>journal</td>\n",
       "    </tr>\n",
       "    <tr>\n",
       "      <th>2161</th>\n",
       "      <td>S4210234349</td>\n",
       "      <td>2188-7500</td>\n",
       "      <td>Shinzo kekkan naishikyo</td>\n",
       "      <td>None</td>\n",
       "      <td>0</td>\n",
       "      <td>1</td>\n",
       "      <td>journal</td>\n",
       "    </tr>\n",
       "  </tbody>\n",
       "</table>\n",
       "<p>2162 rows × 7 columns</p>\n",
       "</div>"
      ],
      "text/plain": [
       "               id     issn_l  \\\n",
       "0     S4210210193  0021-4728   \n",
       "1     S4210231715  0369-4305   \n",
       "2      S119212824  0031-9015   \n",
       "3     S2751469422  0047-1852   \n",
       "4       S95305481  0009-2673   \n",
       "...           ...        ...   \n",
       "2157  S4210228306  2185-7954   \n",
       "2158  S4210229600  0368-8887   \n",
       "2159  S4210229661  1344-7661   \n",
       "2160  S4210232673  0018-3482   \n",
       "2161  S4210234349  2188-7500   \n",
       "\n",
       "                                           display_name  \\\n",
       "0     Journal of the Japan Society of Mechanical Eng...   \n",
       "1                 Nippon Hoshasen Gijutsu Gakkai Zasshi   \n",
       "2              Journal of the Physical Society of Japan   \n",
       "3     Nihon rinsho. Japanese journal of clinical med...   \n",
       "4             Bulletin of the Chemical Society of Japan   \n",
       "...                                                 ...   \n",
       "2157                                  Seibutsu to kisho   \n",
       "2158  Memoirs of the College of Science, University ...   \n",
       "2159                                    Peptide science   \n",
       "2160  Journal of the Faculty of Science, Hokkaido Un...   \n",
       "2161                            Shinzo kekkan naishikyo   \n",
       "\n",
       "                     host_organization  works_count  cited_by_count     type  \n",
       "0     https://openalex.org/P4310313571        61499           62161  journal  \n",
       "1                                 None        49470           52150  journal  \n",
       "2     https://openalex.org/P4310313296        44084          692627  journal  \n",
       "3                                 None        40379           46497  journal  \n",
       "4     https://openalex.org/P4310320565        38084          526331  journal  \n",
       "...                                ...          ...             ...      ...  \n",
       "2157                              None            0               1  journal  \n",
       "2158  https://openalex.org/P4310315698            0               1  journal  \n",
       "2159                              None            0               1  journal  \n",
       "2160  https://openalex.org/P4310313472            0               1  journal  \n",
       "2161                              None            0               1  journal  \n",
       "\n",
       "[2162 rows x 7 columns]"
      ]
     },
     "execution_count": 15,
     "metadata": {},
     "output_type": "execute_result"
    }
   ],
   "source": [
    "df"
   ]
  },
  {
   "attachments": {},
   "cell_type": "markdown",
   "metadata": {},
   "source": [
    "Number of works per year per source."
   ]
  },
  {
   "cell_type": "code",
   "execution_count": 21,
   "metadata": {},
   "outputs": [
    {
     "data": {
      "text/plain": [
       "[{'year': 2023, 'works_count': 25, 'cited_by_count': 14},\n",
       " {'year': 2022, 'works_count': 204, 'cited_by_count': 46},\n",
       " {'year': 2021, 'works_count': 243, 'cited_by_count': 52},\n",
       " {'year': 2020, 'works_count': 244, 'cited_by_count': 26},\n",
       " {'year': 2019, 'works_count': 272, 'cited_by_count': 26},\n",
       " {'year': 2018, 'works_count': 302, 'cited_by_count': 53},\n",
       " {'year': 2017, 'works_count': 286, 'cited_by_count': 56},\n",
       " {'year': 2016, 'works_count': 284, 'cited_by_count': 64},\n",
       " {'year': 2015, 'works_count': 748, 'cited_by_count': 54},\n",
       " {'year': 2014, 'works_count': 767, 'cited_by_count': 69},\n",
       " {'year': 2013, 'works_count': 770, 'cited_by_count': 56},\n",
       " {'year': 2012, 'works_count': 807, 'cited_by_count': 65}]"
      ]
     },
     "execution_count": 21,
     "metadata": {},
     "output_type": "execute_result"
    }
   ],
   "source": [
    "japanese_sources[0]['counts_by_year']"
   ]
  },
  {
   "cell_type": "code",
   "execution_count": 23,
   "metadata": {},
   "outputs": [],
   "source": [
    "data = []\n",
    "for source in japanese_sources:\n",
    "    for year_count in source['counts_by_year']:\n",
    "        data.append({\n",
    "            'id': source['id'],\n",
    "            'year': year_count['year'],\n",
    "            'works_count': year_count['works_count'],\n",
    "            'cited_by_count': year_count['cited_by_count'],\n",
    "        })\n",
    "df_counts_by_year = pd.DataFrame(data)"
   ]
  },
  {
   "cell_type": "code",
   "execution_count": 24,
   "metadata": {},
   "outputs": [
    {
     "data": {
      "text/html": [
       "<div>\n",
       "<style scoped>\n",
       "    .dataframe tbody tr th:only-of-type {\n",
       "        vertical-align: middle;\n",
       "    }\n",
       "\n",
       "    .dataframe tbody tr th {\n",
       "        vertical-align: top;\n",
       "    }\n",
       "\n",
       "    .dataframe thead th {\n",
       "        text-align: right;\n",
       "    }\n",
       "</style>\n",
       "<table border=\"1\" class=\"dataframe\">\n",
       "  <thead>\n",
       "    <tr style=\"text-align: right;\">\n",
       "      <th></th>\n",
       "      <th>id</th>\n",
       "      <th>year</th>\n",
       "      <th>works_count</th>\n",
       "      <th>cited_by_count</th>\n",
       "    </tr>\n",
       "  </thead>\n",
       "  <tbody>\n",
       "    <tr>\n",
       "      <th>0</th>\n",
       "      <td>https://openalex.org/S4210210193</td>\n",
       "      <td>2023</td>\n",
       "      <td>25</td>\n",
       "      <td>14</td>\n",
       "    </tr>\n",
       "    <tr>\n",
       "      <th>1</th>\n",
       "      <td>https://openalex.org/S4210210193</td>\n",
       "      <td>2022</td>\n",
       "      <td>204</td>\n",
       "      <td>46</td>\n",
       "    </tr>\n",
       "    <tr>\n",
       "      <th>2</th>\n",
       "      <td>https://openalex.org/S4210210193</td>\n",
       "      <td>2021</td>\n",
       "      <td>243</td>\n",
       "      <td>52</td>\n",
       "    </tr>\n",
       "    <tr>\n",
       "      <th>3</th>\n",
       "      <td>https://openalex.org/S4210210193</td>\n",
       "      <td>2020</td>\n",
       "      <td>244</td>\n",
       "      <td>26</td>\n",
       "    </tr>\n",
       "    <tr>\n",
       "      <th>4</th>\n",
       "      <td>https://openalex.org/S4210210193</td>\n",
       "      <td>2019</td>\n",
       "      <td>272</td>\n",
       "      <td>26</td>\n",
       "    </tr>\n",
       "    <tr>\n",
       "      <th>...</th>\n",
       "      <td>...</td>\n",
       "      <td>...</td>\n",
       "      <td>...</td>\n",
       "      <td>...</td>\n",
       "    </tr>\n",
       "    <tr>\n",
       "      <th>20598</th>\n",
       "      <td>https://openalex.org/S4210240815</td>\n",
       "      <td>2021</td>\n",
       "      <td>0</td>\n",
       "      <td>9</td>\n",
       "    </tr>\n",
       "    <tr>\n",
       "      <th>20599</th>\n",
       "      <td>https://openalex.org/S4210240815</td>\n",
       "      <td>2020</td>\n",
       "      <td>0</td>\n",
       "      <td>4</td>\n",
       "    </tr>\n",
       "    <tr>\n",
       "      <th>20600</th>\n",
       "      <td>https://openalex.org/S4210240815</td>\n",
       "      <td>2019</td>\n",
       "      <td>0</td>\n",
       "      <td>11</td>\n",
       "    </tr>\n",
       "    <tr>\n",
       "      <th>20601</th>\n",
       "      <td>https://openalex.org/S4210240815</td>\n",
       "      <td>2018</td>\n",
       "      <td>0</td>\n",
       "      <td>2</td>\n",
       "    </tr>\n",
       "    <tr>\n",
       "      <th>20602</th>\n",
       "      <td>https://openalex.org/S4210240815</td>\n",
       "      <td>2017</td>\n",
       "      <td>2</td>\n",
       "      <td>0</td>\n",
       "    </tr>\n",
       "  </tbody>\n",
       "</table>\n",
       "<p>20603 rows × 4 columns</p>\n",
       "</div>"
      ],
      "text/plain": [
       "                                     id  year  works_count  cited_by_count\n",
       "0      https://openalex.org/S4210210193  2023           25              14\n",
       "1      https://openalex.org/S4210210193  2022          204              46\n",
       "2      https://openalex.org/S4210210193  2021          243              52\n",
       "3      https://openalex.org/S4210210193  2020          244              26\n",
       "4      https://openalex.org/S4210210193  2019          272              26\n",
       "...                                 ...   ...          ...             ...\n",
       "20598  https://openalex.org/S4210240815  2021            0               9\n",
       "20599  https://openalex.org/S4210240815  2020            0               4\n",
       "20600  https://openalex.org/S4210240815  2019            0              11\n",
       "20601  https://openalex.org/S4210240815  2018            0               2\n",
       "20602  https://openalex.org/S4210240815  2017            2               0\n",
       "\n",
       "[20603 rows x 4 columns]"
      ]
     },
     "execution_count": 24,
     "metadata": {},
     "output_type": "execute_result"
    }
   ],
   "source": [
    "df_counts_by_year"
   ]
  },
  {
   "cell_type": "code",
   "execution_count": 37,
   "metadata": {},
   "outputs": [
    {
     "data": {
      "text/plain": [
       "year\n",
       "2012    82235\n",
       "2013    82640\n",
       "2014    79368\n",
       "2015    78816\n",
       "2016    74602\n",
       "2017    70666\n",
       "2018    69315\n",
       "2019    67898\n",
       "2020    65098\n",
       "2021    61152\n",
       "2022    48793\n",
       "2023     6154\n",
       "Name: works_count, dtype: int64"
      ]
     },
     "execution_count": 37,
     "metadata": {},
     "output_type": "execute_result"
    }
   ],
   "source": [
    "df_counts_by_year.groupby('year')['works_count'].sum()"
   ]
  },
  {
   "cell_type": "code",
   "execution_count": 54,
   "metadata": {},
   "outputs": [
    {
     "data": {
      "text/plain": [
       "(0.0, 86464.3)"
      ]
     },
     "execution_count": 54,
     "metadata": {},
     "output_type": "execute_result"
    },
    {
     "data": {
      "image/png": "[encoded data removed]",
      "text/plain": [
       "<Figure size 640x480 with 1 Axes>"
      ]
     },
     "metadata": {},
     "output_type": "display_data"
    }
   ],
   "source": [
    "df_counts_by_year.groupby('year')['works_count'].sum().plot().set_ylim(bottom=0)"
   ]
  },
  {
   "cell_type": "code",
   "execution_count": 25,
   "metadata": {},
   "outputs": [
    {
     "ename": "KeyError",
     "evalue": "'group_by'",
     "output_type": "error",
     "traceback": [
      "\u001b[0;31m---------------------------------------------------------------------------\u001b[0m",
      "\u001b[0;31mKeyError\u001b[0m                                  Traceback (most recent call last)",
      "Cell \u001b[0;32mIn[25], line 6\u001b[0m\n\u001b[1;32m      1\u001b[0m params \u001b[39m=\u001b[39m {\n\u001b[1;32m      2\u001b[0m     \u001b[39m'\u001b[39m\u001b[39mfilter\u001b[39m\u001b[39m'\u001b[39m: \u001b[39mf\u001b[39m\u001b[39m'\u001b[39m\u001b[39mcountry_code:\u001b[39m\u001b[39m{\u001b[39;00mcountry_code\u001b[39m}\u001b[39;00m\u001b[39m'\u001b[39m,\n\u001b[1;32m      3\u001b[0m     \u001b[39m'\u001b[39m\u001b[39mgroup_by\u001b[39m\u001b[39m'\u001b[39m: \u001b[39m'\u001b[39m\u001b[39mcounts_by_year\u001b[39m\u001b[39m'\u001b[39m,\n\u001b[1;32m      4\u001b[0m }\n\u001b[1;32m      5\u001b[0m r \u001b[39m=\u001b[39m requests\u001b[39m.\u001b[39mget(url, params\u001b[39m=\u001b[39mparams)\n\u001b[0;32m----> 6\u001b[0m \u001b[39mprint\u001b[39m(r\u001b[39m.\u001b[39;49mjson()[\u001b[39m'\u001b[39;49m\u001b[39mgroup_by\u001b[39;49m\u001b[39m'\u001b[39;49m])\n",
      "\u001b[0;31mKeyError\u001b[0m: 'group_by'"
     ]
    }
   ],
   "source": [
    "params = {\n",
    "    'filter': f'country_code:{country_code}',\n",
    "    'group_by': 'counts_by_year',\n",
    "}\n",
    "r = requests.get(url, params=params)\n",
    "print(r.json()['group_by'])"
   ]
  },
  {
   "attachments": {},
   "cell_type": "markdown",
   "metadata": {},
   "source": [
    "Why couldn't we have just done a `group_by` API query?\n",
    "\n",
    "Because `counts_by_year` is not a valid field to group sources (https://docs.openalex.org/api-entities/venues/group-venues)."
   ]
  },
  {
   "attachments": {},
   "cell_type": "markdown",
   "metadata": {},
   "source": [
    "But what about querying for `Works` and grouping by `publication_year`?\n",
    "\n",
    "We cannot filter works by `source.country_code`. Maybe we should add this to the API.\n",
    "\n",
    "We can, however, filter works by `authorships.institutions.country_code`, so we can answer a different but related question: what are the counts per year of works having authors affiliated with Japanese institutions?"
   ]
  },
  {
   "cell_type": "markdown",
   "metadata": {},
   "source": []
  },
  {
   "cell_type": "code",
   "execution_count": 28,
   "metadata": {},
   "outputs": [],
   "source": [
    "country_code = 'JP'\n",
    "url = f\"https://api.openalex.org/works\"\n",
    "params = {\n",
    "    'filter': f'authorships.institutions.country_code:{country_code}',\n",
    "    'group_by': 'publication_year',\n",
    "}\n",
    "r = requests.get(url, params=params)"
   ]
  },
  {
   "cell_type": "code",
   "execution_count": 30,
   "metadata": {},
   "outputs": [
    {
     "data": {
      "text/plain": [
       "{'meta': {'count': 165,\n",
       "  'db_response_time_ms': 174,\n",
       "  'page': 1,\n",
       "  'per_page': 200},\n",
       " 'results': [],\n",
       " 'group_by': [{'key': '2021', 'key_display_name': '2021', 'count': 179125},\n",
       "  {'key': '2020', 'key_display_name': '2020', 'count': 169882},\n",
       "  {'key': '2019', 'key_display_name': '2019', 'count': 162767},\n",
       "  {'key': '2018', 'key_display_name': '2018', 'count': 157187},\n",
       "  {'key': '2017', 'key_display_name': '2017', 'count': 148183},\n",
       "  {'key': '2022', 'key_display_name': '2022', 'count': 142674},\n",
       "  {'key': '2015', 'key_display_name': '2015', 'count': 142462},\n",
       "  {'key': '2016', 'key_display_name': '2016', 'count': 140656},\n",
       "  {'key': '2014', 'key_display_name': '2014', 'count': 140168},\n",
       "  {'key': '2013', 'key_display_name': '2013', 'count': 140034},\n",
       "  {'key': '2012', 'key_display_name': '2012', 'count': 134980},\n",
       "  {'key': '2011', 'key_display_name': '2011', 'count': 131909},\n",
       "  {'key': '2010', 'key_display_name': '2010', 'count': 128369},\n",
       "  {'key': '2009', 'key_display_name': '2009', 'count': 123573},\n",
       "  {'key': '2007', 'key_display_name': '2007', 'count': 120087},\n",
       "  {'key': '2008', 'key_display_name': '2008', 'count': 119127},\n",
       "  {'key': '2006', 'key_display_name': '2006', 'count': 118354},\n",
       "  {'key': '2005', 'key_display_name': '2005', 'count': 112777},\n",
       "  {'key': '2004', 'key_display_name': '2004', 'count': 109962},\n",
       "  {'key': '2003', 'key_display_name': '2003', 'count': 105263},\n",
       "  {'key': '2002', 'key_display_name': '2002', 'count': 102093},\n",
       "  {'key': '2001', 'key_display_name': '2001', 'count': 95290},\n",
       "  {'key': '2000', 'key_display_name': '2000', 'count': 93872},\n",
       "  {'key': '1999', 'key_display_name': '1999', 'count': 89207},\n",
       "  {'key': '1998', 'key_display_name': '1998', 'count': 85610},\n",
       "  {'key': '1997', 'key_display_name': '1997', 'count': 80423},\n",
       "  {'key': '1996', 'key_display_name': '1996', 'count': 77399},\n",
       "  {'key': '1995', 'key_display_name': '1995', 'count': 70999},\n",
       "  {'key': '1994', 'key_display_name': '1994', 'count': 69956},\n",
       "  {'key': '1993', 'key_display_name': '1993', 'count': 66264},\n",
       "  {'key': '1992', 'key_display_name': '1992', 'count': 62302},\n",
       "  {'key': '1991', 'key_display_name': '1991', 'count': 60029},\n",
       "  {'key': '1990', 'key_display_name': '1990', 'count': 54793},\n",
       "  {'key': '1989', 'key_display_name': '1989', 'count': 47811},\n",
       "  {'key': '1988', 'key_display_name': '1988', 'count': 43772},\n",
       "  {'key': '1987', 'key_display_name': '1987', 'count': 36647},\n",
       "  {'key': '1986', 'key_display_name': '1986', 'count': 30209},\n",
       "  {'key': '1985', 'key_display_name': '1985', 'count': 28711},\n",
       "  {'key': '1984', 'key_display_name': '1984', 'count': 25713},\n",
       "  {'key': '1983', 'key_display_name': '1983', 'count': 24946},\n",
       "  {'key': '1982', 'key_display_name': '1982', 'count': 22065},\n",
       "  {'key': '1981', 'key_display_name': '1981', 'count': 21254},\n",
       "  {'key': '1980', 'key_display_name': '1980', 'count': 19292},\n",
       "  {'key': '1979', 'key_display_name': '1979', 'count': 16934},\n",
       "  {'key': '1978', 'key_display_name': '1978', 'count': 15798},\n",
       "  {'key': '2023', 'key_display_name': '2023', 'count': 14562},\n",
       "  {'key': '1977', 'key_display_name': '1977', 'count': 14240},\n",
       "  {'key': '1976', 'key_display_name': '1976', 'count': 12928},\n",
       "  {'key': '1975', 'key_display_name': '1975', 'count': 11709},\n",
       "  {'key': '1974', 'key_display_name': '1974', 'count': 10510},\n",
       "  {'key': '1973', 'key_display_name': '1973', 'count': 9982},\n",
       "  {'key': '1972', 'key_display_name': '1972', 'count': 9498},\n",
       "  {'key': '1971', 'key_display_name': '1971', 'count': 8391},\n",
       "  {'key': '1970', 'key_display_name': '1970', 'count': 7425},\n",
       "  {'key': '1969', 'key_display_name': '1969', 'count': 7046},\n",
       "  {'key': '1968', 'key_display_name': '1968', 'count': 7032},\n",
       "  {'key': '1967', 'key_display_name': '1967', 'count': 6085},\n",
       "  {'key': '1966', 'key_display_name': '1966', 'count': 5563},\n",
       "  {'key': '1965', 'key_display_name': '1965', 'count': 4591},\n",
       "  {'key': '1964', 'key_display_name': '1964', 'count': 4023},\n",
       "  {'key': '1963', 'key_display_name': '1963', 'count': 3533},\n",
       "  {'key': '1962', 'key_display_name': '1962', 'count': 3341},\n",
       "  {'key': '1960', 'key_display_name': '1960', 'count': 3249},\n",
       "  {'key': '1959', 'key_display_name': '1959', 'count': 3143},\n",
       "  {'key': '1961', 'key_display_name': '1961', 'count': 3115},\n",
       "  {'key': '1958', 'key_display_name': '1958', 'count': 2663},\n",
       "  {'key': '1957', 'key_display_name': '1957', 'count': 2024},\n",
       "  {'key': '1956', 'key_display_name': '1956', 'count': 1861},\n",
       "  {'key': '1955', 'key_display_name': '1955', 'count': 1607},\n",
       "  {'key': '1954', 'key_display_name': '1954', 'count': 1490},\n",
       "  {'key': '1953', 'key_display_name': '1953', 'count': 1118},\n",
       "  {'key': '1952', 'key_display_name': '1952', 'count': 950},\n",
       "  {'key': '1951', 'key_display_name': '1951', 'count': 926},\n",
       "  {'key': '1950', 'key_display_name': '1950', 'count': 589},\n",
       "  {'key': '1949', 'key_display_name': '1949', 'count': 416},\n",
       "  {'key': '1948', 'key_display_name': '1948', 'count': 195},\n",
       "  {'key': '1937', 'key_display_name': '1937', 'count': 174},\n",
       "  {'key': '1936', 'key_display_name': '1936', 'count': 168},\n",
       "  {'key': '1933', 'key_display_name': '1933', 'count': 166},\n",
       "  {'key': '1938', 'key_display_name': '1938', 'count': 163},\n",
       "  {'key': '1941', 'key_display_name': '1941', 'count': 160},\n",
       "  {'key': '1935', 'key_display_name': '1935', 'count': 158},\n",
       "  {'key': '1940', 'key_display_name': '1940', 'count': 156},\n",
       "  {'key': '1929', 'key_display_name': '1929', 'count': 150},\n",
       "  {'key': '1939', 'key_display_name': '1939', 'count': 150},\n",
       "  {'key': '1934', 'key_display_name': '1934', 'count': 148},\n",
       "  {'key': '1928', 'key_display_name': '1928', 'count': 143},\n",
       "  {'key': '1942', 'key_display_name': '1942', 'count': 128},\n",
       "  {'key': '1927', 'key_display_name': '1927', 'count': 126},\n",
       "  {'key': '1932', 'key_display_name': '1932', 'count': 126},\n",
       "  {'key': '1930', 'key_display_name': '1930', 'count': 120},\n",
       "  {'key': '1931', 'key_display_name': '1931', 'count': 105},\n",
       "  {'key': '1926', 'key_display_name': '1926', 'count': 100},\n",
       "  {'key': '1947', 'key_display_name': '1947', 'count': 91},\n",
       "  {'key': '1925', 'key_display_name': '1925', 'count': 86},\n",
       "  {'key': '1943', 'key_display_name': '1943', 'count': 82},\n",
       "  {'key': '1924', 'key_display_name': '1924', 'count': 65},\n",
       "  {'key': '1944', 'key_display_name': '1944', 'count': 60},\n",
       "  {'key': '1922', 'key_display_name': '1922', 'count': 49},\n",
       "  {'key': '1946', 'key_display_name': '1946', 'count': 48},\n",
       "  {'key': '1945', 'key_display_name': '1945', 'count': 32},\n",
       "  {'key': '1923', 'key_display_name': '1923', 'count': 31},\n",
       "  {'key': '1921', 'key_display_name': '1921', 'count': 27},\n",
       "  {'key': '1920', 'key_display_name': '1920', 'count': 25},\n",
       "  {'key': '1899', 'key_display_name': '1899', 'count': 20},\n",
       "  {'key': '1917', 'key_display_name': '1917', 'count': 18},\n",
       "  {'key': '1902', 'key_display_name': '1902', 'count': 17},\n",
       "  {'key': '1912', 'key_display_name': '1912', 'count': 17},\n",
       "  {'key': '1901', 'key_display_name': '1901', 'count': 14},\n",
       "  {'key': '1903', 'key_display_name': '1903', 'count': 14},\n",
       "  {'key': '1918', 'key_display_name': '1918', 'count': 14},\n",
       "  {'key': '1911', 'key_display_name': '1911', 'count': 13},\n",
       "  {'key': '1916', 'key_display_name': '1916', 'count': 13},\n",
       "  {'key': '1907', 'key_display_name': '1907', 'count': 12},\n",
       "  {'key': '1908', 'key_display_name': '1908', 'count': 12},\n",
       "  {'key': '1909', 'key_display_name': '1909', 'count': 12},\n",
       "  {'key': '1913', 'key_display_name': '1913', 'count': 12},\n",
       "  {'key': '1904', 'key_display_name': '1904', 'count': 11},\n",
       "  {'key': '1914', 'key_display_name': '1914', 'count': 11},\n",
       "  {'key': '1800', 'key_display_name': '1800', 'count': 10},\n",
       "  {'key': '1898', 'key_display_name': '1898', 'count': 10},\n",
       "  {'key': '1910', 'key_display_name': '1910', 'count': 10},\n",
       "  {'key': '1905', 'key_display_name': '1905', 'count': 9},\n",
       "  {'key': '1919', 'key_display_name': '1919', 'count': 9},\n",
       "  {'key': '1882', 'key_display_name': '1882', 'count': 8},\n",
       "  {'key': '1893', 'key_display_name': '1893', 'count': 7},\n",
       "  {'key': '1915', 'key_display_name': '1915', 'count': 7},\n",
       "  {'key': '1870', 'key_display_name': '1870', 'count': 6},\n",
       "  {'key': '1883', 'key_display_name': '1883', 'count': 5},\n",
       "  {'key': '1881', 'key_display_name': '1881', 'count': 4},\n",
       "  {'key': '1887', 'key_display_name': '1887', 'count': 4},\n",
       "  {'key': '1906', 'key_display_name': '1906', 'count': 4},\n",
       "  {'key': '1855', 'key_display_name': '1855', 'count': 3},\n",
       "  {'key': '1857', 'key_display_name': '1857', 'count': 3},\n",
       "  {'key': '1859', 'key_display_name': '1859', 'count': 3},\n",
       "  {'key': '1886', 'key_display_name': '1886', 'count': 3},\n",
       "  {'key': '1895', 'key_display_name': '1895', 'count': 3},\n",
       "  {'key': '1900', 'key_display_name': '1900', 'count': 3},\n",
       "  {'key': '1850', 'key_display_name': '1850', 'count': 2},\n",
       "  {'key': '1856', 'key_display_name': '1856', 'count': 2},\n",
       "  {'key': '1862', 'key_display_name': '1862', 'count': 2},\n",
       "  {'key': '1868', 'key_display_name': '1868', 'count': 2},\n",
       "  {'key': '1874', 'key_display_name': '1874', 'count': 2},\n",
       "  {'key': '1876', 'key_display_name': '1876', 'count': 2},\n",
       "  {'key': '1880', 'key_display_name': '1880', 'count': 2},\n",
       "  {'key': '1888', 'key_display_name': '1888', 'count': 2},\n",
       "  {'key': '1891', 'key_display_name': '1891', 'count': 2},\n",
       "  {'key': '1892', 'key_display_name': '1892', 'count': 2},\n",
       "  {'key': '1894', 'key_display_name': '1894', 'count': 2},\n",
       "  {'key': '1806', 'key_display_name': '1806', 'count': 1},\n",
       "  {'key': '1816', 'key_display_name': '1816', 'count': 1},\n",
       "  {'key': '1851', 'key_display_name': '1851', 'count': 1},\n",
       "  {'key': '1852', 'key_display_name': '1852', 'count': 1},\n",
       "  {'key': '1854', 'key_display_name': '1854', 'count': 1},\n",
       "  {'key': '1858', 'key_display_name': '1858', 'count': 1},\n",
       "  {'key': '1861', 'key_display_name': '1861', 'count': 1},\n",
       "  {'key': '1869', 'key_display_name': '1869', 'count': 1},\n",
       "  {'key': '1872', 'key_display_name': '1872', 'count': 1},\n",
       "  {'key': '1873', 'key_display_name': '1873', 'count': 1},\n",
       "  {'key': '1875', 'key_display_name': '1875', 'count': 1},\n",
       "  {'key': '1877', 'key_display_name': '1877', 'count': 1},\n",
       "  {'key': '1879', 'key_display_name': '1879', 'count': 1},\n",
       "  {'key': '1889', 'key_display_name': '1889', 'count': 1},\n",
       "  {'key': '1896', 'key_display_name': '1896', 'count': 1},\n",
       "  {'key': '1897', 'key_display_name': '1897', 'count': 1}]}"
      ]
     },
     "execution_count": 30,
     "metadata": {},
     "output_type": "execute_result"
    }
   ],
   "source": [
    "r.json()"
   ]
  },
  {
   "cell_type": "code",
   "execution_count": 38,
   "metadata": {},
   "outputs": [],
   "source": [
    "data = []\n",
    "for item in r.json()['group_by']:\n",
    "    data.append({\n",
    "        'year': int(item['key']),\n",
    "        'works_count': item['count'],\n",
    "    })\n",
    "df_affiliations_count = pd.DataFrame(data)"
   ]
  },
  {
   "cell_type": "code",
   "execution_count": 50,
   "metadata": {},
   "outputs": [
    {
     "data": {
      "text/plain": [
       "(0.0, 181332.25)"
      ]
     },
     "execution_count": 50,
     "metadata": {},
     "output_type": "execute_result"
    },
    {
     "data": {
      "image/png": "[encoded data removed]",
      "text/plain": [
       "<Figure size 640x480 with 1 Axes>"
      ]
     },
     "metadata": {},
     "output_type": "display_data"
    }
   ],
   "source": [
    "df_affiliations_count.sort_values('year', inplace=True)\n",
    "# df_affiliations_count[df_affiliations_count['year']>=2012&df_affiliations_count['year']<2023].set_index('year').plot()\n",
    "df_affiliations_count.loc[(df_affiliations_count['year']>=2012)&(df_affiliations_count['year']<2023)].set_index('year').plot().set_ylim(bottom=0)"
   ]
  },
  {
   "cell_type": "code",
   "execution_count": null,
   "metadata": {},
   "outputs": [],
   "source": []
  }
 ],
 "metadata": {
  "kernelspec": {
   "display_name": "venv",
   "language": "python",
   "name": "python3"
  },
  "language_info": {
   "codemirror_mode": {
    "name": "ipython",
    "version": 3
   },
   "file_extension": ".py",
   "mimetype": "text/x-python",
   "name": "python",
   "nbconvert_exporter": "python",
   "pygments_lexer": "ipython3",
   "version": "3.9.12"
  },
  "orig_nbformat": 4,
  "vscode": {
   "interpreter": {
    "hash": "271691dbc4cdb85f541c883090ff5a004cbd8b9c207c2cfed84437fce4e65fdb"
   }
  }
 },
 "nbformat": 4,
 "nbformat_minor": 2
}
