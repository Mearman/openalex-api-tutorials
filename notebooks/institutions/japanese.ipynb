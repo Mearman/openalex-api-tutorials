{
 "cells": [
  {
   "attachments": {},
   "cell_type": "markdown",
   "metadata": {},
   "source": [
    "# create a list of sources of Japanese author/article data for OpenAlex\n",
    "- sources that are in japan:\n",
    "  - journals (and publishers?)\n",
    "  - repositories (and their host_orgs?)\n",
    "  - Report numbers for the sources and for works\n"
   ]
  },
  {
   "cell_type": "code",
   "execution_count": 1,
   "metadata": {},
   "outputs": [],
   "source": [
    "import requests"
   ]
  },
  {
   "attachments": {},
   "cell_type": "markdown",
   "metadata": {},
   "source": [
    "Sources with `country_code=JP`"
   ]
  },
  {
   "cell_type": "code",
   "execution_count": 2,
   "metadata": {},
   "outputs": [
    {
     "name": "stdout",
     "output_type": "stream",
     "text": [
      "There are 2162 sources with country_code 'JP' (Japan)\n"
     ]
    }
   ],
   "source": [
    "country_code = 'JP'\n",
    "url = f\"https://api.openalex.org/sources\"\n",
    "params = {\n",
    "    'filter': f'country_code:{country_code}',\n",
    "}\n",
    "r = requests.get(url, params=params)\n",
    "num_sources = r.json()['meta']['count']\n",
    "print(f\"There are {num_sources} sources with country_code 'JP' (Japan)\")"
   ]
  },
  {
   "cell_type": "code",
   "execution_count": 3,
   "metadata": {},
   "outputs": [
    {
     "name": "stdout",
     "output_type": "stream",
     "text": [
      "[{'key': 'journal', 'key_display_name': 'journal', 'count': 2162}]\n"
     ]
    }
   ],
   "source": [
    "params = {\n",
    "    'filter': f'country_code:{country_code}',\n",
    "    'group_by': 'type',\n",
    "}\n",
    "r = requests.get(url, params=params)\n",
    "print(r.json()['group_by'])"
   ]
  },
  {
   "attachments": {},
   "cell_type": "markdown",
   "metadata": {},
   "source": [
    "All of the Japanese sources are of type: `journal`."
   ]
  },
  {
   "cell_type": "code",
   "execution_count": 4,
   "metadata": {},
   "outputs": [
    {
     "name": "stdout",
     "output_type": "stream",
     "text": [
      "collected 2162 sources (using 88 api calls)\n"
     ]
    }
   ],
   "source": [
    "# page through to get all sources\n",
    "# use paging technique from `paging.ipynb`\n",
    "# url with a placeholder for page number\n",
    "country_code = 'JP'\n",
    "url = f\"https://api.openalex.org/sources\"\n",
    "params = {\n",
    "    'filter': f'country_code:{country_code}',\n",
    "    'page': 1,  # initaliaze `page` param to 1\n",
    "}\n",
    "\n",
    "has_more_pages = True\n",
    "fewer_than_10k_results = True\n",
    "\n",
    "japanese_sources = []\n",
    "\n",
    "# loop through pages\n",
    "loop_index = 0\n",
    "while has_more_pages and fewer_than_10k_results:\n",
    "    \n",
    "    page_with_results = requests.get(url, params=params).json()\n",
    "    \n",
    "    # loop through partial list of results\n",
    "    results = page_with_results['results']\n",
    "    for source in results:\n",
    "        japanese_sources.append(source)\n",
    "\n",
    "    # next page\n",
    "    params['page'] += 1\n",
    "    \n",
    "    # end loop when either there are no more results on the requested page \n",
    "    # or the next request would exceed 10,000 results\n",
    "    per_page = page_with_results['meta']['per_page']\n",
    "    has_more_pages = len(results) == per_page\n",
    "    fewer_than_10k_results = per_page * params['page'] <= 10000\n",
    "    loop_index += 1\n",
    "print(f\"collected {len(japanese_sources)} sources (using {loop_index+1} api calls)\")"
   ]
  },
  {
   "cell_type": "code",
   "execution_count": 5,
   "metadata": {},
   "outputs": [
    {
     "name": "stdout",
     "output_type": "stream",
     "text": [
      "The Japanese sources are associated with 181 different host organizations (publishers).\n"
     ]
    }
   ],
   "source": [
    "from collections import Counter\n",
    "c = Counter([source['host_organization'] for source in japanese_sources if source['host_organization']])\n",
    "print(f\"The Japanese sources are associated with {len(c)} different host organizations (publishers).\")"
   ]
  },
  {
   "cell_type": "code",
   "execution_count": 6,
   "metadata": {},
   "outputs": [
    {
     "name": "stdout",
     "output_type": "stream",
     "text": [
      "There are 3700657 works (articles) with Japanese sources.\n"
     ]
    }
   ],
   "source": [
    "num_works = sum([source['works_count'] for source in japanese_sources])\n",
    "print(f\"There are {num_works} works (articles) with Japanese sources.\")"
   ]
  },
  {
   "cell_type": "code",
   "execution_count": null,
   "metadata": {},
   "outputs": [],
   "source": []
  }
 ],
 "metadata": {
  "kernelspec": {
   "display_name": "venv",
   "language": "python",
   "name": "python3"
  },
  "language_info": {
   "codemirror_mode": {
    "name": "ipython",
    "version": 3
   },
   "file_extension": ".py",
   "mimetype": "text/x-python",
   "name": "python",
   "nbconvert_exporter": "python",
   "pygments_lexer": "ipython3",
   "version": "3.9.12"
  },
  "orig_nbformat": 4,
  "vscode": {
   "interpreter": {
    "hash": "271691dbc4cdb85f541c883090ff5a004cbd8b9c207c2cfed84437fce4e65fdb"
   }
  }
 },
 "nbformat": 4,
 "nbformat_minor": 2
}
