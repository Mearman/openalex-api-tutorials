{
 "cells": [
  {
   "attachments": {},
   "cell_type": "markdown",
   "metadata": {},
   "source": [
    "# How are University of Washington (UW) researchers collaborating with people around the globe?\n",
    "\n",
    "The UW Office of Global Affairs is interested in showing off the scholarly collaborations between UW's faculty and researchers around the world. Their [interactive dashboard](https://www.washington.edu/global/publications/) lets people dig deep into these collaborations using maps, graphs, and other visualizations. The data powering this is dashboard is based on the Microsoft Academic Graph, which is no longer being updated. In this tutorial, we will use OpenAlex's API to update the data by getting all of the publications that are collaborations between UW faculty and other institutions.\n",
    "\n"
   ]
  },
  {
   "attachments": {},
   "cell_type": "markdown",
   "metadata": {},
   "source": [
    "First, let's look at how the University of Washington is represented in OpenAlex.\n",
    "\n",
    "[Institutions](https://docs.openalex.org/api-entities/institutions) in OpenAlex are closely linked with the [ROR registry](https://ror.org/) of research organizations. By searching the ROR website, we can find the [ROR ID for UW](https://ror.org/00cvxb145)."
   ]
  },
  {
   "cell_type": "code",
   "execution_count": 1,
   "metadata": {},
   "outputs": [],
   "source": [
    "uw_id = \"https://ror.org/00cvxb145\""
   ]
  },
  {
   "attachments": {},
   "cell_type": "markdown",
   "metadata": {},
   "source": [
    "To get the data for the UW dashboard, we need to collect all of the works from OpenAlex which have at least one author from UW and at least one author outside UW. We'll do this in two steps: first, we'll get all of the works with UW authors, then we'll filter to keep only the papers with at least one other affiliation."
   ]
  },
  {
   "cell_type": "code",
   "execution_count": 2,
   "metadata": {},
   "outputs": [
    {
     "name": "stdout",
     "output_type": "stream",
     "text": [
      "complete URL with filters:\n",
      "https://api.openalex.org/works?filter=institutions.ror:https://ror.org/00cvxb145,from_publication_date:2003-01-01\n"
     ]
    }
   ],
   "source": [
    "# specify endpoint\n",
    "endpoint = 'works'\n",
    "\n",
    "# build the 'filter' parameter\n",
    "# We'll limit it to the last 20 years\n",
    "filters = \",\".join((\n",
    "    f'institutions.ror:{uw_id}',\n",
    "    'from_publication_date:2003-01-01',\n",
    "))\n",
    "\n",
    "# put the URL together\n",
    "filtered_works_url = f'https://api.openalex.org/{endpoint}?filter={filters}'\n",
    "print(f'complete URL with filters:\\n{filtered_works_url}')"
   ]
  },
  {
   "attachments": {},
   "cell_type": "markdown",
   "metadata": {},
   "source": [
    "We've built the URL. Now let's get the results from the API, using the `requests` library."
   ]
  },
  {
   "cell_type": "code",
   "execution_count": 3,
   "metadata": {},
   "outputs": [],
   "source": [
    "import requests"
   ]
  },
  {
   "cell_type": "code",
   "execution_count": 4,
   "metadata": {},
   "outputs": [
    {
     "name": "stdout",
     "output_type": "stream",
     "text": [
      "retrieved 25 works\n"
     ]
    }
   ],
   "source": [
    "r = requests.get(filtered_works_url)\n",
    "results_page = r.json()\n",
    "print(f\"retrieved {len(results_page['results'])} works\")"
   ]
  },
  {
   "attachments": {},
   "cell_type": "markdown",
   "metadata": {},
   "source": [
    "We've retrieved 25 works, but of course that isn't the total number of works by UW authors. We only got the first page of results. We can see how many works there actually are by looking at the `results_page['meta']['count']` value:"
   ]
  },
  {
   "cell_type": "code",
   "execution_count": 5,
   "metadata": {},
   "outputs": [
    {
     "name": "stdout",
     "output_type": "stream",
     "text": [
      "246613\n"
     ]
    }
   ],
   "source": [
    "print(results_page['meta']['count'])"
   ]
  },
  {
   "cell_type": "code",
   "execution_count": 50,
   "metadata": {},
   "outputs": [
    {
     "data": {
      "text/plain": [
       "9864.52"
      ]
     },
     "execution_count": 50,
     "metadata": {},
     "output_type": "execute_result"
    }
   ],
   "source": [
    "results_page['meta']['count'] / 25"
   ]
  },
  {
   "attachments": {},
   "cell_type": "markdown",
   "metadata": {},
   "source": [
    "There are about 250,000 works. To get all of them, we will need to use the [paging technique](https://docs.openalex.org/how-to-use-the-api/get-lists-of-entities/paging). Since we want more than 10,000 works, we need to use the cursor paging technique. At 25 results per page, that means we will need to make nearly 10,000 API calls to get all of the data we want. This may seem like a lot, but don't panic! This is well under the [free allowance of 100,000 API calls per day.](https://docs.openalex.org/how-to-use-the-api/rate-limits-and-authentication) It will take about an hour in total, so let it run overnight or while you take a break.\n"
   ]
  },
  {
   "cell_type": "code",
   "execution_count": 5,
   "metadata": {},
   "outputs": [
    {
     "name": "stdout",
     "output_type": "stream",
     "text": [
      "5 api requests made so far\n",
      "10 api requests made so far\n",
      "20 api requests made so far\n",
      "50 api requests made so far\n",
      "100 api requests made so far\n",
      "200 api requests made so far\n",
      "300 api requests made so far\n",
      "400 api requests made so far\n",
      "500 api requests made so far\n",
      "600 api requests made so far\n",
      "700 api requests made so far\n",
      "800 api requests made so far\n",
      "900 api requests made so far\n",
      "1000 api requests made so far\n",
      "1100 api requests made so far\n",
      "1200 api requests made so far\n",
      "1300 api requests made so far\n",
      "1400 api requests made so far\n",
      "1500 api requests made so far\n",
      "1600 api requests made so far\n",
      "1700 api requests made so far\n",
      "1800 api requests made so far\n",
      "1900 api requests made so far\n",
      "2000 api requests made so far\n",
      "2100 api requests made so far\n",
      "2200 api requests made so far\n",
      "2300 api requests made so far\n",
      "2400 api requests made so far\n",
      "2500 api requests made so far\n",
      "2600 api requests made so far\n",
      "2700 api requests made so far\n",
      "2800 api requests made so far\n",
      "2900 api requests made so far\n",
      "3000 api requests made so far\n",
      "3100 api requests made so far\n",
      "3200 api requests made so far\n",
      "3300 api requests made so far\n",
      "3400 api requests made so far\n",
      "3500 api requests made so far\n",
      "3600 api requests made so far\n",
      "3700 api requests made so far\n",
      "3800 api requests made so far\n",
      "3900 api requests made so far\n",
      "4000 api requests made so far\n",
      "4100 api requests made so far\n",
      "4200 api requests made so far\n",
      "4300 api requests made so far\n",
      "4400 api requests made so far\n",
      "4500 api requests made so far\n",
      "4600 api requests made so far\n",
      "4700 api requests made so far\n",
      "4800 api requests made so far\n",
      "4900 api requests made so far\n",
      "5000 api requests made so far\n",
      "5100 api requests made so far\n",
      "5200 api requests made so far\n",
      "5300 api requests made so far\n",
      "5400 api requests made so far\n",
      "5500 api requests made so far\n",
      "5600 api requests made so far\n",
      "5700 api requests made so far\n",
      "5800 api requests made so far\n",
      "5900 api requests made so far\n",
      "6000 api requests made so far\n",
      "6100 api requests made so far\n",
      "6200 api requests made so far\n",
      "6300 api requests made so far\n",
      "6400 api requests made so far\n",
      "6500 api requests made so far\n",
      "6600 api requests made so far\n",
      "6700 api requests made so far\n",
      "6800 api requests made so far\n",
      "6900 api requests made so far\n",
      "7000 api requests made so far\n",
      "7100 api requests made so far\n",
      "7200 api requests made so far\n",
      "7300 api requests made so far\n",
      "7400 api requests made so far\n",
      "7500 api requests made so far\n",
      "7600 api requests made so far\n",
      "7700 api requests made so far\n",
      "7800 api requests made so far\n",
      "7900 api requests made so far\n",
      "8000 api requests made so far\n",
      "8100 api requests made so far\n",
      "8200 api requests made so far\n",
      "8300 api requests made so far\n",
      "8400 api requests made so far\n",
      "8500 api requests made so far\n",
      "8600 api requests made so far\n",
      "8700 api requests made so far\n",
      "8800 api requests made so far\n",
      "8900 api requests made so far\n",
      "9000 api requests made so far\n",
      "9100 api requests made so far\n",
      "9200 api requests made so far\n",
      "9300 api requests made so far\n",
      "9400 api requests made so far\n",
      "9500 api requests made so far\n",
      "9600 api requests made so far\n",
      "9700 api requests made so far\n",
      "9800 api requests made so far\n",
      "done. made 9863 api requests. collected 246542 works\n"
     ]
    }
   ],
   "source": [
    "cursor = '*'\n",
    "\n",
    "select = \",\".join((\n",
    "    'id',\n",
    "    'ids',\n",
    "    'title',\n",
    "    'display_name',\n",
    "    'publication_year',\n",
    "    'publication_date',\n",
    "    'primary_location',\n",
    "    'open_access',\n",
    "    'authorships',\n",
    "    'cited_by_count',\n",
    "    'is_retracted',\n",
    "    'is_paratext',\n",
    "    'updated_date',\n",
    "    'created_date',\n",
    "))\n",
    "\n",
    "# loop through pages\n",
    "works = []\n",
    "loop_index = 0\n",
    "while cursor:\n",
    "    \n",
    "    # set cursor value and request page from OpenAlex\n",
    "    url = f'{filtered_works_url}&select={select}&cursor={cursor}'\n",
    "    page_with_results = requests.get(url).json()\n",
    "    \n",
    "    results = page_with_results['results']\n",
    "    works.extend(results)\n",
    "\n",
    "    # update cursor to meta.next_cursor\n",
    "    cursor = page_with_results['meta']['next_cursor']\n",
    "    loop_index += 1\n",
    "    if loop_index in [5, 10, 20, 50, 100] or loop_index % 500 == 0:\n",
    "        print(f'{loop_index} api requests made so far')\n",
    "print(f'done. made {loop_index} api requests. collected {len(works)} works')"
   ]
  },
  {
   "attachments": {},
   "cell_type": "markdown",
   "metadata": {},
   "source": [
    "Now might be a good time to save the data we just retrieved, in case this notebook restarts and we want to come back to it without having to get all of the works from the API again. The following cell allows us to do this by saving the data using the `.pickle` data format. (If you are loading the data in this way, then you don't need to run the above cell.)"
   ]
  },
  {
   "cell_type": "code",
   "execution_count": 6,
   "metadata": {},
   "outputs": [],
   "source": [
    "import pickle\n",
    "\n",
    "# uncomment these lines and run to save the results so we won't have to fetch them\n",
    "# again next time we run the notebook\n",
    "# import os\n",
    "# if not os.path.isdir('../../data'):\n",
    "#     os.mkdir('../../data')\n",
    "# with open('../../uw_works_since_2003.pickle', 'wb') as outf:\n",
    "#     pickle.dump(works, outf, protocol=pickle.HIGHEST_PROTOCOL)\n",
    "\n",
    "# OR uncomment these lines and run to load the saved results\n",
    "# with open('../../data/uw_works_since_2003.pickle', 'rb') as f:\n",
    "#     works = pickle.load(f)"
   ]
  },
  {
   "attachments": {},
   "cell_type": "markdown",
   "metadata": {},
   "source": [
    "Each work object has a lot of information, not all of which we will use. Let's get the data into a Pandas dataframe, limiting the number of fields to just the ones we might be interested in."
   ]
  },
  {
   "cell_type": "code",
   "execution_count": 9,
   "metadata": {},
   "outputs": [],
   "source": [
    "import pandas as pd\n",
    "data = []\n",
    "for work in works:\n",
    "    for authorship in work['authorships']:\n",
    "        if authorship:\n",
    "            author = authorship['author']\n",
    "            author_id = author['id'] if author else None\n",
    "            author_name = author['display_name'] if author else None\n",
    "            author_position = authorship['author_position']\n",
    "            for institution in authorship['institutions']:\n",
    "                if institution:\n",
    "                    institution_id = institution['id']\n",
    "                    institution_name = institution['display_name']\n",
    "                    institution_country_code = institution['country_code']\n",
    "                    data.append({\n",
    "                        'work_id': work['id'],\n",
    "                        'work_title': work['title'],\n",
    "                        'work_display_name': work['display_name'],\n",
    "                        'work_publication_year': work['publication_year'],\n",
    "                        'work_publication_date': work['publication_date'],\n",
    "                        'author_id': author_id,\n",
    "                        'author_name': author_name,\n",
    "                        'author_position': author_position,\n",
    "                        'institution_id': institution_id,\n",
    "                        'institution_name': institution_name,\n",
    "                        'institution_country_code': institution_country_code,\n",
    "                    })\n",
    "df = pd.DataFrame(data)"
   ]
  },
  {
   "cell_type": "code",
   "execution_count": 54,
   "metadata": {},
   "outputs": [
    {
     "name": "stdout",
     "output_type": "stream",
     "text": [
      "There are 20,842 institutions that collaborate with UW, in 193 countries.\n"
     ]
    }
   ],
   "source": [
    "print(f\"There are {df['institution_id'].nunique():,} institutions that collaborate with UW, in {df['institution_country_code'].nunique()} countries.\")"
   ]
  },
  {
   "cell_type": "code",
   "execution_count": null,
   "metadata": {},
   "outputs": [],
   "source": [
    "def outside_uw_collab(institution_ids):\n",
    "    if all(institution_ids == 'https://openalex.org/I201448701'):\n",
    "        return False\n",
    "    else:\n",
    "        return True\n",
    "df['is_outside_uw_collab'] = df.groupby('work_id')['institution_id'].transform(outside_uw_collab)"
   ]
  },
  {
   "cell_type": "code",
   "execution_count": null,
   "metadata": {},
   "outputs": [
    {
     "data": {
      "text/plain": [
       "False     96886\n",
       "True     149651\n",
       "Name: is_outside_uw_collab, dtype: int64"
      ]
     },
     "metadata": {},
     "output_type": "display_data"
    }
   ],
   "source": [
    "df.drop_duplicates(subset='work_id')['is_outside_uw_collab'].value_counts().sort_index()"
   ]
  },
  {
   "cell_type": "code",
   "execution_count": null,
   "metadata": {},
   "outputs": [
    {
     "name": "stdout",
     "output_type": "stream",
     "text": [
      "dataframe has 1453778 rows, with 149651 unique publications\n"
     ]
    }
   ],
   "source": [
    "df_collab = df[df['is_outside_uw_collab']].drop(columns='is_outside_uw_collab')\n",
    "print(f\"dataframe has {len(df_collab)} rows, with {df_collab['work_id'].nunique()} unique publications\")"
   ]
  },
  {
   "attachments": {},
   "cell_type": "markdown",
   "metadata": {},
   "source": [
    "We've found about 20K institutions that collaborate with UW. We already know the names and the countries of these institutions; these were included in the results from the `works` endpoint of the API. There is some more information about the institutions that would be helpful to supply to the dashboard, especially the geolocation data that can be used to show the collaborations on maps. This information can be found in the [Institutions](https://docs.openalex.org/api-entities/institutions) entities.\n",
    "\n",
    "To get the institutions, we will query the `/institutions` endpoint of the API. We will use the technique to get multiple entities per API request as suggested [here](https://docs.openalex.org/how-to-use-the-api/get-lists-of-entities/filter-entity-lists#addition-or). This technique involves getting 50 results at once by requesting them in a filter, separated by a pipe ('`|`').\n",
    "\n",
    "This will get all of the institutions in about 400 API calls, which should only take a few minutes."
   ]
  },
  {
   "cell_type": "code",
   "execution_count": 14,
   "metadata": {},
   "outputs": [
    {
     "name": "stdout",
     "output_type": "stream",
     "text": [
      "collected 20842 institutions using 417 api calls\n"
     ]
    }
   ],
   "source": [
    "institution_ids = df['institution_id'].dropna().unique()\n",
    "\n",
    "endpoint = \"institutions\"\n",
    "size = 50\n",
    "loop_index = 0\n",
    "institutions = []\n",
    "for list_index in range(0, len(institution_ids), size):\n",
    "    subset = institution_ids[list_index:list_index+size]\n",
    "    pipe_separated_ids = \"|\".join(subset)\n",
    "    r = requests.get(f\"https://api.openalex.org/institutions?filter=openalex:{pipe_separated_ids}&per-page={size}\")\n",
    "    # ! ids.openalex filter does not work, even though it is in the documentation\n",
    "    results = r.json()['results']\n",
    "    institutions.extend(results)\n",
    "    loop_index += 1\n",
    "print(f\"collected {len(institutions)} institutions using {loop_index} api calls\")"
   ]
  },
  {
   "cell_type": "code",
   "execution_count": 55,
   "metadata": {},
   "outputs": [],
   "source": [
    "data = []\n",
    "for institution in institutions:\n",
    "    data.append({\n",
    "        'id': institution['id'],\n",
    "        'ror': institution['ror'],\n",
    "        'display_name': institution['display_name'],\n",
    "        'country_code': institution['country_code'],\n",
    "        'type': institution['type'],\n",
    "        'latitude': institution['geo']['latitude'],\n",
    "        'longitude': institution['geo']['longitude'],\n",
    "        'city': institution['geo']['city'],\n",
    "        'region': institution['geo']['region'],\n",
    "        'country': institution['geo']['country'],\n",
    "        'image_url': institution['image_url'],\n",
    "        'image_thumbnail_url': institution['image_thumbnail_url'],\n",
    "    })\n",
    "\n",
    "df_institutions = pd.DataFrame(data)"
   ]
  },
  {
   "cell_type": "code",
   "execution_count": null,
   "metadata": {},
   "outputs": [],
   "source": []
  },
  {
   "cell_type": "code",
   "execution_count": 35,
   "metadata": {},
   "outputs": [],
   "source": [
    "def international_collab(institution_country_codes):\n",
    "    if all(institution_country_codes == 'US'):\n",
    "        return False\n",
    "    else:\n",
    "        return True\n",
    "df['is_international_collab'] = df.groupby('work_id')['institution_country_code'].transform(international_collab)"
   ]
  },
  {
   "cell_type": "code",
   "execution_count": 36,
   "metadata": {},
   "outputs": [
    {
     "data": {
      "text/plain": [
       "False    152031\n",
       "True      94506\n",
       "Name: is_international_collab, dtype: int64"
      ]
     },
     "execution_count": 36,
     "metadata": {},
     "output_type": "execute_result"
    }
   ],
   "source": [
    "df.drop_duplicates(subset='work_id')['is_international_collab'].value_counts().sort_index()"
   ]
  },
  {
   "cell_type": "code",
   "execution_count": 48,
   "metadata": {},
   "outputs": [],
   "source": [
    "outpath = '../../data/uw_collabs.csv'\n",
    "df_collab.to_csv(outpath, index=False)"
   ]
  },
  {
   "cell_type": "code",
   "execution_count": 49,
   "metadata": {},
   "outputs": [],
   "source": [
    "outpath = '../../data/uw_collabs.csv.gz'\n",
    "df_collab.to_csv(outpath, index=False)"
   ]
  },
  {
   "cell_type": "code",
   "execution_count": 53,
   "metadata": {},
   "outputs": [
    {
     "data": {
      "text/plain": [
       "{'id': 'https://openalex.org/I27837315',\n",
       " 'ror': 'https://ror.org/00jmfr291',\n",
       " 'display_name': 'University of Michigan–Ann Arbor',\n",
       " 'country_code': 'US',\n",
       " 'type': 'education',\n",
       " 'homepage_url': 'https://www.umich.edu/',\n",
       " 'image_url': 'https://upload.wikimedia.org/wikipedia/commons/9/93/Seal_of_the_University_of_Michigan.svg',\n",
       " 'image_thumbnail_url': 'https://upload.wikimedia.org/wikipedia/commons/thumb/9/93/Seal_of_the_University_of_Michigan.svg/100px-Seal_of_the_University_of_Michigan.svg.png',\n",
       " 'display_name_acronyms': ['UM'],\n",
       " 'display_name_alternatives': ['UMich'],\n",
       " 'works_count': 727419,\n",
       " 'cited_by_count': 36062005,\n",
       " 'ids': {'openalex': 'https://openalex.org/I27837315',\n",
       "  'ror': 'https://ror.org/00jmfr291',\n",
       "  'mag': '27837315',\n",
       "  'grid': 'grid.214458.e',\n",
       "  'wikipedia': 'https://en.wikipedia.org/wiki/University%20of%20Michigan',\n",
       "  'wikidata': 'https://www.wikidata.org/wiki/Q230492'},\n",
       " 'geo': {'city': 'Ann Arbor',\n",
       "  'geonames_city_id': '4984247',\n",
       "  'region': 'Michigan',\n",
       "  'country_code': 'US',\n",
       "  'country': 'United States',\n",
       "  'latitude': 42.278305,\n",
       "  'longitude': -83.73822},\n",
       " 'international': {'display_name': {'ar': 'جامعة ميشيغان',\n",
       "   'arz': 'جامعة ميشيجان',\n",
       "   'ast': 'Universidá de Michigan',\n",
       "   'az': 'Miçiqan Universiteti',\n",
       "   'azb': 'میشیقان بیلیم\\u200cیوردو',\n",
       "   'ba': 'Мичиган университеты',\n",
       "   'be': 'Мічыганскі ўніверсітэт',\n",
       "   'be-tarask': 'Мічыганскі ўнівэрсытэт',\n",
       "   'bg': 'Мичигански университет',\n",
       "   'bn': 'মিশিগান বিশ্ববিদ্যালয়',\n",
       "   'br': 'Skol-veur Michigan',\n",
       "   'ca': 'Universitat de Michigan',\n",
       "   'ckb': 'زانکۆی میشیگەن',\n",
       "   'crh': 'Miçigan universiteti',\n",
       "   'crh-latn': 'Miçigan universiteti',\n",
       "   'cs': 'Michiganská univerzita',\n",
       "   'cy': 'Prifysgol Michigan',\n",
       "   'da': 'University of Michigan',\n",
       "   'de': 'University of Michigan',\n",
       "   'el': 'Πανεπιστήμιο του Μίσιγκαν',\n",
       "   'en': 'University of Michigan',\n",
       "   'en-gb': 'University of Michigan',\n",
       "   'eo': 'Universitato de Miĉigano',\n",
       "   'es': 'Universidad de Míchigan',\n",
       "   'et': 'Michigani Ülikool',\n",
       "   'eu': 'Michigango Unibertsitatea',\n",
       "   'fa': 'دانشگاه میشیگان',\n",
       "   'fi': 'Michiganin yliopisto',\n",
       "   'fr': 'université du Michigan',\n",
       "   'ga': 'Ollscoil Michigan',\n",
       "   'gd': 'Oilthigh Mhichigan',\n",
       "   'gl': 'Universidade de Míchigan',\n",
       "   'gv': 'Ollooscoill Michigan',\n",
       "   'he': 'אוניברסיטת מישיגן',\n",
       "   'hu': 'Michigani Egyetem',\n",
       "   'hy': 'Միչիգանի համալսարան',\n",
       "   'hyw': 'Միշիկընի Համալսարան,',\n",
       "   'id': 'Universitas Michigan',\n",
       "   'io': 'Universitato di Michigan',\n",
       "   'is': 'Michigan-háskóli',\n",
       "   'it': 'Università del Michigan',\n",
       "   'ja': 'ミシガン大学',\n",
       "   'jv': 'Universitas Michigan',\n",
       "   'ka': 'მიჩიგანის უნივერსიტეტი',\n",
       "   'ko': '미시간 대학교',\n",
       "   'kw': 'Pennskol Michigan',\n",
       "   'ky': 'Мичиган Университети',\n",
       "   'la': 'Universitas Michiganensis',\n",
       "   'lb': 'Universitéit vu Michigan',\n",
       "   'lt': 'Mičigano universitetas',\n",
       "   'lv': 'Mičiganas universitāte',\n",
       "   'mk': 'Мичигенски универзитет',\n",
       "   'ml': 'യൂണിവേഴ്സിറ്റി ഓഫ് മിഷിഗൺ',\n",
       "   'mr': 'मिशिगन विद्यापीठ',\n",
       "   'ms': 'Universiti Michigan',\n",
       "   'mt': 'Università ta’ Michigan',\n",
       "   'nb': 'University of Michigan',\n",
       "   'nl': 'Universiteit van Michigan',\n",
       "   'nn': 'University of Michigan',\n",
       "   'pa': 'ਮਿਸ਼ੀਗਨ ਯੂਨੀਵਰਸਿਟੀ',\n",
       "   'pap': 'Universidat di Michigan',\n",
       "   'pl': 'Uniwersytet Michigan',\n",
       "   'pnb': 'یونیورسٹی آف مشیگن',\n",
       "   'pt': 'Universidade de Michigan',\n",
       "   'ro': 'Universitatea din Michigan',\n",
       "   'ru': 'Мичиганский университет',\n",
       "   'rw': 'Kaminuza ya Michigan',\n",
       "   'sh': 'Univerzitet u Michiganu',\n",
       "   'sl': 'Univerza Michigana',\n",
       "   'sr': 'Универзитет Мичигена',\n",
       "   'sv': 'University of Michigan',\n",
       "   'ta': 'மிச்சிகன் பல்கலைக்கழகம்',\n",
       "   'tg': 'Донишгоҳи Мичиган',\n",
       "   'th': 'มหาวิทยาลัยมิชิแกน',\n",
       "   'tl': 'Unibersidad ng Michigan',\n",
       "   'tr': 'Michigan Üniversitesi',\n",
       "   'tt': 'Мичиган үнивирситите',\n",
       "   'ug': 'مىچىگان ئۇنىۋېرستېتى',\n",
       "   'uk': 'Університет Мічигану',\n",
       "   'ur': 'مشی گن یونیورسٹی',\n",
       "   'vi': 'Đại học Michigan',\n",
       "   'war': 'Unibersidad han Michigan',\n",
       "   'wuu': '密歇根大学',\n",
       "   'xmf': 'მიჩიგანიშ უნივერსიტეტი',\n",
       "   'yue': '密芝根大學',\n",
       "   'zh': '密歇根大学',\n",
       "   'zh-cn': '密歇根大学',\n",
       "   'zh-hans': '密歇根大学',\n",
       "   'zh-hant': '密西根大學',\n",
       "   'zh-hk': '密芝根大學',\n",
       "   'zh-sg': '密歇根大学',\n",
       "   'zh-tw': '密西根大學'}},\n",
       " 'associated_institutions': [{'id': 'https://openalex.org/I4210104572',\n",
       "   'ror': 'https://ror.org/015tnsz82',\n",
       "   'display_name': 'Michigan Sea Grant',\n",
       "   'country_code': 'US',\n",
       "   'type': 'other',\n",
       "   'relationship': 'child'},\n",
       "  {'id': 'https://openalex.org/I4210163254',\n",
       "   'ror': 'https://ror.org/057mgcy61',\n",
       "   'display_name': 'Michigan Space Grant Consortium',\n",
       "   'country_code': 'US',\n",
       "   'type': 'other',\n",
       "   'relationship': 'child'},\n",
       "  {'id': 'https://openalex.org/I4210130704',\n",
       "   'ror': 'https://ror.org/035wtm547',\n",
       "   'display_name': 'University of Michigan–Dearborn',\n",
       "   'country_code': 'US',\n",
       "   'type': 'education',\n",
       "   'relationship': 'child'},\n",
       "  {'id': 'https://openalex.org/I4210092198',\n",
       "   'ror': 'https://ror.org/01c3xc117',\n",
       "   'display_name': 'University of Michigan–Flint',\n",
       "   'country_code': 'US',\n",
       "   'type': 'education',\n",
       "   'relationship': 'child'},\n",
       "  {'id': 'https://openalex.org/I2799370151',\n",
       "   'ror': 'https://ror.org/05g2hd893',\n",
       "   'display_name': 'Beaumont Health',\n",
       "   'country_code': 'US',\n",
       "   'type': 'nonprofit',\n",
       "   'relationship': 'related'},\n",
       "  {'id': 'https://openalex.org/I2801799315',\n",
       "   'ror': 'https://ror.org/034npj057',\n",
       "   'display_name': 'Hurley Medical Center',\n",
       "   'country_code': 'US',\n",
       "   'type': 'healthcare',\n",
       "   'relationship': 'related'},\n",
       "  {'id': 'https://openalex.org/I4210114445',\n",
       "   'ror': 'https://ror.org/01zcpa714',\n",
       "   'display_name': 'Michigan Medicine',\n",
       "   'country_code': 'US',\n",
       "   'type': 'healthcare',\n",
       "   'relationship': 'related'}],\n",
       " 'counts_by_year': [{'year': 2023,\n",
       "   'works_count': 2448,\n",
       "   'cited_by_count': 617909},\n",
       "  {'year': 2022, 'works_count': 386596, 'cited_by_count': 2833515},\n",
       "  {'year': 2021, 'works_count': 17256, 'cited_by_count': 2998228},\n",
       "  {'year': 2020, 'works_count': 18145, 'cited_by_count': 2690990},\n",
       "  {'year': 2019, 'works_count': 16261, 'cited_by_count': 2375343},\n",
       "  {'year': 2018, 'works_count': 15425, 'cited_by_count': 2173875},\n",
       "  {'year': 2017, 'works_count': 14860, 'cited_by_count': 2074345},\n",
       "  {'year': 2016, 'works_count': 14333, 'cited_by_count': 2023910},\n",
       "  {'year': 2015, 'works_count': 13660, 'cited_by_count': 1911474},\n",
       "  {'year': 2014, 'works_count': 13169, 'cited_by_count': 1756119},\n",
       "  {'year': 2013, 'works_count': 13157, 'cited_by_count': 1668649},\n",
       "  {'year': 2012, 'works_count': 12124, 'cited_by_count': 1501449}],\n",
       " 'x_concepts': [{'id': 'https://openalex.org/C41008148',\n",
       "   'wikidata': 'https://www.wikidata.org/wiki/Q21198',\n",
       "   'display_name': 'Computer science',\n",
       "   'level': 0,\n",
       "   'score': 51.9},\n",
       "  {'id': 'https://openalex.org/C86803240',\n",
       "   'wikidata': 'https://www.wikidata.org/wiki/Q420',\n",
       "   'display_name': 'Biology',\n",
       "   'level': 0,\n",
       "   'score': 30.3},\n",
       "  {'id': 'https://openalex.org/C71924100',\n",
       "   'wikidata': 'https://www.wikidata.org/wiki/Q11190',\n",
       "   'display_name': 'Medicine',\n",
       "   'level': 0,\n",
       "   'score': 27.5},\n",
       "  {'id': 'https://openalex.org/C185592680',\n",
       "   'wikidata': 'https://www.wikidata.org/wiki/Q2329',\n",
       "   'display_name': 'Chemistry',\n",
       "   'level': 0,\n",
       "   'score': 23.2},\n",
       "  {'id': 'https://openalex.org/C121332964',\n",
       "   'wikidata': 'https://www.wikidata.org/wiki/Q413',\n",
       "   'display_name': 'Physics',\n",
       "   'level': 0,\n",
       "   'score': 20.4}],\n",
       " 'works_api_url': 'https://api.openalex.org/works?filter=institutions.id:I27837315',\n",
       " 'updated_date': '2023-03-13T10:22:10.690282',\n",
       " 'created_date': '2016-06-24'}"
      ]
     },
     "execution_count": 53,
     "metadata": {},
     "output_type": "execute_result"
    }
   ],
   "source": [
    "institutions[0]"
   ]
  }
 ],
 "metadata": {
  "kernelspec": {
   "display_name": "venv",
   "language": "python",
   "name": "python3"
  },
  "language_info": {
   "codemirror_mode": {
    "name": "ipython",
    "version": 3
   },
   "file_extension": ".py",
   "mimetype": "text/x-python",
   "name": "python",
   "nbconvert_exporter": "python",
   "pygments_lexer": "ipython3",
   "version": "3.10.9"
  },
  "orig_nbformat": 4,
  "vscode": {
   "interpreter": {
    "hash": "271691dbc4cdb85f541c883090ff5a004cbd8b9c207c2cfed84437fce4e65fdb"
   }
  }
 },
 "nbformat": 4,
 "nbformat_minor": 2
}
