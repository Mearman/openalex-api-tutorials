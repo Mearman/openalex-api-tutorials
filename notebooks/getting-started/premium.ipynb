{
 "cells": [
  {
   "cell_type": "markdown",
   "metadata": {},
   "source": [
    "<div align=\"center\" style=\"border:solid 1px gray;\">\n",
    "    <a href=\"https://openalex.org/\">\n",
    "        <img src=\"../../resources/img/OpenAlex-banner.png\" alt=\"OpenAlex banner\" width=\"300\">\n",
    "    </a>\n",
    "</div>"
   ]
  },
  {
   "attachments": {},
   "cell_type": "markdown",
   "metadata": {},
   "source": [
    "# Getting started with OpenAlex Premium\n",
    "\n",
    "In this tutorial, we're going to learn how to get started using [OpenAlex Premium](https://openalex.org/pricing). This subscription service provides some features beyond the free services. One of the most important of these features is **faster updates,** allowing you to keep your data fully synced with OpenAlex.\n",
    "\n",
    "The way we do this is by using the `from_created_date` [(doc)](https://docs.openalex.org/api-entities/works/filter-works#from_created_date) or the `from_updated_date` [(doc)](https://docs.openalex.org/api-entities/works/filter-works#from_created_date) filters. These filters allow you to get the new works you need to keep your data updated, and they require a Premium API Key to work.\n",
    "\n",
    "We're going to set up the code to poll the OpenAlex API for newly updated works on a regular basis, once per day."
   ]
  },
  {
   "attachments": {},
   "cell_type": "markdown",
   "metadata": {},
   "source": [
    "First, we need to get the API key you received by signing up for OpenAlex Premium. (Don't have a key yet? [Contact us right now to learn more about getting premium!](https://openalex.org/pricing))\n",
    "\n",
    "We'll store our API key in a variable called `my_api_key`. There are several ways to do this. You could just put it into the code, but since it is sensitive information that we don't want others to see, we're going to get it from an [environment variable, which we'll store in a `.env` file.](https://towardsdatascience.com/the-quick-guide-to-using-environment-variables-in-python-d4ec9291619e)\n",
    "\n",
    "This is just a text file with the name `.env`, that looks like this:\n",
    "```\n",
    "API_KEY=<my-api-key>\n",
    "```\n",
    "Replace `<my-api-key>` with your OpenAlex Premium API Key.\n"
   ]
  },
  {
   "attachments": {},
   "cell_type": "markdown",
   "metadata": {},
   "source": [
    "Now, to set our `my_api_key` variable, we'll set our environment using the [`python-dotenv`](https://pypi.org/project/python-dotenv/) library, then get the variable using the `os.getenv()` function."
   ]
  },
  {
   "cell_type": "code",
   "execution_count": 1,
   "metadata": {},
   "outputs": [
    {
     "name": "stdout",
     "output_type": "stream",
     "text": [
      "API key is set!\n"
     ]
    }
   ],
   "source": [
    "import os\n",
    "from dotenv import load_dotenv\n",
    "\n",
    "load_dotenv('.env')\n",
    "my_api_key = os.getenv('API_KEY')\n",
    "if my_api_key is None:\n",
    "    print(\"No API key found!!!\")\n",
    "else:\n",
    "    print(\"API key is set!\")"
   ]
  },
  {
   "attachments": {},
   "cell_type": "markdown",
   "metadata": {},
   "source": [
    "Our plan is to get all of the works that have been updated in the last hour. So let's construct a URL that will request that information from the API:"
   ]
  },
  {
   "cell_type": "code",
   "execution_count": 2,
   "metadata": {},
   "outputs": [],
   "source": [
    "import requests\n",
    "from datetime import datetime, timedelta"
   ]
  },
  {
   "cell_type": "code",
   "execution_count": 3,
   "metadata": {},
   "outputs": [
    {
     "name": "stdout",
     "output_type": "stream",
     "text": [
      "Our formatted date-time string looks like this: 2023-04-17T13:02:21.655622\n",
      "Retrieved 0 works, out of 0 works updated since 2023-04-17T13:02:21.655622\n"
     ]
    }
   ],
   "source": [
    "one_hour_ago = datetime.utcnow() - timedelta(hours=1)\n",
    "one_hour_ago_formatted_string = one_hour_ago.isoformat()\n",
    "print(f\"Our formatted date-time string looks like this: {one_hour_ago_formatted_string}\")\n",
    "# Construct a URL to requests works from the last day, including our API key.\n",
    "url = f\"https://api.openalex.org/works?filter=from_updated_date:{one_hour_ago_formatted_string}&api_key={my_api_key}\"\n",
    "r = requests.get(url)\n",
    "updated_works = r.json()\n",
    "\n",
    "count_works_retrieved = len(updated_works['results'])\n",
    "count_works_total = updated_works['meta']['count']\n",
    "print(f\"Retrieved {count_works_retrieved} works, out of {count_works_total} works updated since {one_hour_ago_formatted_string}\")\n"
   ]
  },
  {
   "attachments": {},
   "cell_type": "markdown",
   "metadata": {},
   "source": [
    "Success! We've used our API key to request all of the works updated in the last day. To get all of the data, [you can page through the results](https://docs.openalex.org/how-to-use-the-api/get-lists-of-entities/paging).\n",
    "\n",
    "Keep in mind that this method will get works that have been updated with *any change at all*, including increases in various counts. If you're only interested in *new* works, you could use the [`from_created_date`](https://docs.openalex.org/api-entities/works/filter-works#from_created_date) filter instead of `from_updated_date`, which will give a much smaller number of works.\n",
    "\n",
    "You'll need to do two things to keep your data fresh:\n",
    "1. Set up a script that does something similar to what we did above, and that runs on schedule once per day (using a [cron job](https://en.wikipedia.org/wiki/Cron), for example).\n",
    "2. Update your database with the new data you've grabbed from our API (such as using a SQL script)."
   ]
  },
  {
   "attachments": {},
   "cell_type": "markdown",
   "metadata": {},
   "source": [
    "And that's it! Using this method, you can keep your data up to date with regular API requests, instead of waiting for new data snapshots.\n",
    "\n",
    "Enjoy!"
   ]
  }
 ],
 "metadata": {
  "kernelspec": {
   "display_name": "venv",
   "language": "python",
   "name": "python3"
  },
  "language_info": {
   "codemirror_mode": {
    "name": "ipython",
    "version": 3
   },
   "file_extension": ".py",
   "mimetype": "text/x-python",
   "name": "python",
   "nbconvert_exporter": "python",
   "pygments_lexer": "ipython3",
   "version": "3.10.9"
  },
  "orig_nbformat": 4
 },
 "nbformat": 4,
 "nbformat_minor": 2
}
