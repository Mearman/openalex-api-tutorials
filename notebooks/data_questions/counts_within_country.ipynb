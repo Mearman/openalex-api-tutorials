{
 "cells": [
  {
   "attachments": {},
   "cell_type": "markdown",
   "metadata": {},
   "source": [
    "# Question: How are number of works counted when looking at institutions within a country?"
   ]
  },
  {
   "cell_type": "code",
   "execution_count": 13,
   "metadata": {},
   "outputs": [],
   "source": [
    "import requests\n",
    "country_code = 'ES'\n",
    "url = f\"https://api.openalex.org/works\"\n",
    "params = {\n",
    "    'filter': f'institutions.country_code:{country_code}',\n",
    "    'group_by': 'institutions.id',\n",
    "}\n",
    "r = requests.get(url, params=params)"
   ]
  },
  {
   "cell_type": "code",
   "execution_count": 14,
   "metadata": {},
   "outputs": [],
   "source": [
    "counts_by_institutions_from_works_endpoint = r.json()['group_by']"
   ]
  },
  {
   "cell_type": "code",
   "execution_count": 16,
   "metadata": {},
   "outputs": [
    {
     "data": {
      "text/plain": [
       "{'key': 'https://openalex.org/I71999127',\n",
       " 'key_display_name': 'University of Barcelona',\n",
       " 'count': 106711}"
      ]
     },
     "execution_count": 16,
     "metadata": {},
     "output_type": "execute_result"
    }
   ],
   "source": [
    "counts_by_institutions_from_works_endpoint[0]"
   ]
  },
  {
   "cell_type": "code",
   "execution_count": 18,
   "metadata": {},
   "outputs": [
    {
     "name": "stdout",
     "output_type": "stream",
     "text": [
      "collected 1804 sources (using 74 api calls)\n"
     ]
    }
   ],
   "source": [
    "country_code = 'ES'\n",
    "# url with a placeholder for page number\n",
    "url = f\"https://api.openalex.org/institutions\"\n",
    "params = {\n",
    "    'filter': f'country_code:{country_code}',\n",
    "    'page': 1,  # initaliaze `page` param to 1\n",
    "}\n",
    "\n",
    "has_more_pages = True\n",
    "fewer_than_10k_results = True\n",
    "\n",
    "institutions_data_from_institutions_endpoint = []\n",
    "\n",
    "# loop through pages\n",
    "loop_index = 0\n",
    "while has_more_pages and fewer_than_10k_results:\n",
    "    \n",
    "    page_with_results = requests.get(url, params=params).json()\n",
    "    \n",
    "    # loop through partial list of results\n",
    "    results = page_with_results['results']\n",
    "    for api_result in results:\n",
    "        # # Collect the fields we are interested in, for this source\n",
    "        # source = {field: api_result[field] for field in fields}\n",
    "        # Append this source to our `japanese_sourcers` list\n",
    "        institutions_data_from_institutions_endpoint.append(api_result)\n",
    "\n",
    "    # next page\n",
    "    params['page'] += 1\n",
    "    \n",
    "    # end loop when either there are no more results on the requested page \n",
    "    # or the next request would exceed 10,000 results\n",
    "    per_page = page_with_results['meta']['per_page']\n",
    "    has_more_pages = len(results) == per_page\n",
    "    fewer_than_10k_results = per_page * params['page'] <= 10000\n",
    "    loop_index += 1\n",
    "print(f\"collected {len(institutions_data_from_institutions_endpoint)} sources (using {loop_index+1} api calls)\")"
   ]
  },
  {
   "cell_type": "code",
   "execution_count": 24,
   "metadata": {},
   "outputs": [],
   "source": [
    "keyed_counts = {item['key']: item for item in counts_by_institutions_from_works_endpoint}\n",
    "data = []\n",
    "for inst in institutions_data_from_institutions_endpoint:\n",
    "    id = inst['id']\n",
    "    c = keyed_counts.get(id)\n",
    "    if c:\n",
    "        data.append({\n",
    "            'id': id,\n",
    "            'count1': inst['works_count'],\n",
    "            'count2': c['count'],\n",
    "        })"
   ]
  },
  {
   "cell_type": "code",
   "execution_count": 25,
   "metadata": {},
   "outputs": [
    {
     "data": {
      "text/plain": [
       "[{'id': 'https://openalex.org/I71999127', 'count1': 106775, 'count2': 106711},\n",
       " {'id': 'https://openalex.org/I121748325', 'count1': 101654, 'count2': 101658},\n",
       " {'id': 'https://openalex.org/I123044942', 'count1': 88726, 'count2': 88466},\n",
       " {'id': 'https://openalex.org/I16097986', 'count1': 75688, 'count2': 74845},\n",
       " {'id': 'https://openalex.org/I173304897', 'count1': 70325, 'count2': 70273},\n",
       " {'id': 'https://openalex.org/I63634437', 'count1': 63111, 'count2': 61569},\n",
       " {'id': 'https://openalex.org/I79238269', 'count1': 58094, 'count2': 58138},\n",
       " {'id': 'https://openalex.org/I169108374', 'count1': 55330, 'count2': 55244},\n",
       " {'id': 'https://openalex.org/I9617848', 'count1': 51480, 'count2': 51501},\n",
       " {'id': 'https://openalex.org/I200284239', 'count1': 49358, 'count2': 49181},\n",
       " {'id': 'https://openalex.org/I255234318', 'count1': 47887, 'count2': 47898},\n",
       " {'id': 'https://openalex.org/I88060688', 'count1': 42417, 'count2': 42434},\n",
       " {'id': 'https://openalex.org/I60053951', 'count1': 42409, 'count2': 42438},\n",
       " {'id': 'https://openalex.org/I80180929', 'count1': 36961, 'count2': 36981},\n",
       " {'id': 'https://openalex.org/I165339363', 'count1': 36934, 'count2': 35901},\n",
       " {'id': 'https://openalex.org/I184999862', 'count1': 36332, 'count2': 36361},\n",
       " {'id': 'https://openalex.org/I82767444', 'count1': 33232, 'count2': 33261},\n",
       " {'id': 'https://openalex.org/I134820265', 'count1': 32576, 'count2': 31468},\n",
       " {'id': 'https://openalex.org/I6289922', 'count1': 29132, 'count2': 29159},\n",
       " {'id': 'https://openalex.org/I130194489', 'count1': 28886, 'count2': 28914},\n",
       " {'id': 'https://openalex.org/I170486558', 'count1': 28116, 'count2': 28094},\n",
       " {'id': 'https://openalex.org/I79189158', 'count1': 27491, 'count2': 27530},\n",
       " {'id': 'https://openalex.org/I50357001', 'count1': 26882, 'count2': 26880},\n",
       " {'id': 'https://openalex.org/I108103353', 'count1': 25897, 'count2': 25916},\n",
       " {'id': 'https://openalex.org/I189268942', 'count1': 25005, 'count2': 25014},\n",
       " {'id': 'https://openalex.org/I4210115097', 'count1': 24678, 'count2': 24696},\n",
       " {'id': 'https://openalex.org/I158438070', 'count1': 24397, 'count2': 24402},\n",
       " {'id': 'https://openalex.org/I80606768', 'count1': 22496, 'count2': 22516},\n",
       " {'id': 'https://openalex.org/I88155538', 'count1': 21926, 'count2': 21929},\n",
       " {'id': 'https://openalex.org/I2801357902', 'count1': 21347, 'count2': 21351},\n",
       " {'id': 'https://openalex.org/I55952717', 'count1': 20759, 'count2': 20781},\n",
       " {'id': 'https://openalex.org/I13134134', 'count1': 20519, 'count2': 19919},\n",
       " {'id': 'https://openalex.org/I2800562746', 'count1': 20002, 'count2': 19995},\n",
       " {'id': 'https://openalex.org/I53110688', 'count1': 19820, 'count2': 19835},\n",
       " {'id': 'https://openalex.org/I2960094004', 'count1': 19486, 'count2': 19479},\n",
       " {'id': 'https://openalex.org/I182083151', 'count1': 18710, 'count2': 18728},\n",
       " {'id': 'https://openalex.org/I10902133', 'count1': 18113, 'count2': 18134},\n",
       " {'id': 'https://openalex.org/I39147953', 'count1': 17024, 'count2': 17029},\n",
       " {'id': 'https://openalex.org/I2961216182', 'count1': 16932, 'count2': 16922},\n",
       " {'id': 'https://openalex.org/I11019714', 'count1': 16732, 'count2': 16732},\n",
       " {'id': 'https://openalex.org/I178450904', 'count1': 15500, 'count2': 15508},\n",
       " {'id': 'https://openalex.org/I191420491', 'count1': 15161, 'count2': 15168},\n",
       " {'id': 'https://openalex.org/I251424209', 'count1': 15059, 'count2': 15072},\n",
       " {'id': 'https://openalex.org/I111262870', 'count1': 14954, 'count2': 14962},\n",
       " {'id': 'https://openalex.org/I4210161852', 'count1': 14401, 'count2': 14409},\n",
       " {'id': 'https://openalex.org/I119635470', 'count1': 14168, 'count2': 14181},\n",
       " {'id': 'https://openalex.org/I50441567', 'count1': 13880, 'count2': 13747},\n",
       " {'id': 'https://openalex.org/I52354020', 'count1': 13729, 'count2': 13743},\n",
       " {'id': 'https://openalex.org/I4210135003', 'count1': 13702, 'count2': 13709},\n",
       " {'id': 'https://openalex.org/I2802050225', 'count1': 13507, 'count2': 13509},\n",
       " {'id': 'https://openalex.org/I4210153139', 'count1': 13325, 'count2': 13331},\n",
       " {'id': 'https://openalex.org/I4210101691', 'count1': 12792, 'count2': 12798},\n",
       " {'id': 'https://openalex.org/I4210127641', 'count1': 12724, 'count2': 12741},\n",
       " {'id': 'https://openalex.org/I11932220', 'count1': 11809, 'count2': 11554},\n",
       " {'id': 'https://openalex.org/I2801795740', 'count1': 11780, 'count2': 11787},\n",
       " {'id': 'https://openalex.org/I175051016', 'count1': 11301, 'count2': 11312},\n",
       " {'id': 'https://openalex.org/I4210153460', 'count1': 10731, 'count2': 10740},\n",
       " {'id': 'https://openalex.org/I95013407', 'count1': 10652, 'count2': 10655},\n",
       " {'id': 'https://openalex.org/I15766328', 'count1': 10543, 'count2': 10557},\n",
       " {'id': 'https://openalex.org/I78880903', 'count1': 10080, 'count2': 10089},\n",
       " {'id': 'https://openalex.org/I8833935', 'count1': 9528, 'count2': 9527},\n",
       " {'id': 'https://openalex.org/I4210130807', 'count1': 9359, 'count2': 9359},\n",
       " {'id': 'https://openalex.org/I110594554', 'count1': 9356, 'count2': 9245},\n",
       " {'id': 'https://openalex.org/I4210147680', 'count1': 9301, 'count2': 9306},\n",
       " {'id': 'https://openalex.org/I4210130874', 'count1': 8808, 'count2': 8817},\n",
       " {'id': 'https://openalex.org/I4210129357', 'count1': 8784, 'count2': 8796},\n",
       " {'id': 'https://openalex.org/I4210130498', 'count1': 8714, 'count2': 8721},\n",
       " {'id': 'https://openalex.org/I4210105637', 'count1': 8234, 'count2': 8239},\n",
       " {'id': 'https://openalex.org/I4210118429', 'count1': 7971, 'count2': 7973},\n",
       " {'id': 'https://openalex.org/I168974976', 'count1': 7912, 'count2': 7922},\n",
       " {'id': 'https://openalex.org/I4210094406', 'count1': 7776, 'count2': 7783},\n",
       " {'id': 'https://openalex.org/I4210114530', 'count1': 7635, 'count2': 7634},\n",
       " {'id': 'https://openalex.org/I138847295', 'count1': 7576, 'count2': 7582},\n",
       " {'id': 'https://openalex.org/I4210150677', 'count1': 7321, 'count2': 7327},\n",
       " {'id': 'https://openalex.org/I3123212020', 'count1': 7197, 'count2': 7195},\n",
       " {'id': 'https://openalex.org/I46176106', 'count1': 7179, 'count2': 7185},\n",
       " {'id': 'https://openalex.org/I4210099858', 'count1': 7050, 'count2': 7054},\n",
       " {'id': 'https://openalex.org/I3019010403', 'count1': 7048, 'count2': 7061},\n",
       " {'id': 'https://openalex.org/I4210123675', 'count1': 7031, 'count2': 7037},\n",
       " {'id': 'https://openalex.org/I4210146061', 'count1': 6833, 'count2': 6833},\n",
       " {'id': 'https://openalex.org/I4210120109', 'count1': 6542, 'count2': 6550},\n",
       " {'id': 'https://openalex.org/I4210090436', 'count1': 6466, 'count2': 6469},\n",
       " {'id': 'https://openalex.org/I4210116170', 'count1': 6465, 'count2': 6464},\n",
       " {'id': 'https://openalex.org/I1307323311', 'count1': 6442, 'count2': 6446},\n",
       " {'id': 'https://openalex.org/I5593406', 'count1': 6304, 'count2': 6280},\n",
       " {'id': 'https://openalex.org/I4210133994', 'count1': 6252, 'count2': 6259},\n",
       " {'id': 'https://openalex.org/I4210105802', 'count1': 6159, 'count2': 6159},\n",
       " {'id': 'https://openalex.org/I4210113665', 'count1': 5795, 'count2': 5801},\n",
       " {'id': 'https://openalex.org/I4210096311', 'count1': 5746, 'count2': 5748},\n",
       " {'id': 'https://openalex.org/I4210137412', 'count1': 5685, 'count2': 5691},\n",
       " {'id': 'https://openalex.org/I4210159146', 'count1': 5644, 'count2': 5647},\n",
       " {'id': 'https://openalex.org/I136040515', 'count1': 5524, 'count2': 5529},\n",
       " {'id': 'https://openalex.org/I4210137674', 'count1': 5454, 'count2': 5462},\n",
       " {'id': 'https://openalex.org/I4210127649', 'count1': 5345, 'count2': 5347},\n",
       " {'id': 'https://openalex.org/I4210151127', 'count1': 5344, 'count2': 5355},\n",
       " {'id': 'https://openalex.org/I4210135032', 'count1': 5099, 'count2': 5103},\n",
       " {'id': 'https://openalex.org/I2800401438', 'count1': 5026, 'count2': 5020},\n",
       " {'id': 'https://openalex.org/I96580804', 'count1': 4985, 'count2': 4989},\n",
       " {'id': 'https://openalex.org/I4210107147', 'count1': 4959, 'count2': 4962},\n",
       " {'id': 'https://openalex.org/I4210157802', 'count1': 4872, 'count2': 4876},\n",
       " {'id': 'https://openalex.org/I2184545', 'count1': 4707, 'count2': 4710},\n",
       " {'id': 'https://openalex.org/I4210089289', 'count1': 4610, 'count2': 4615},\n",
       " {'id': 'https://openalex.org/I47686490', 'count1': 4605, 'count2': 4610},\n",
       " {'id': 'https://openalex.org/I4210085921', 'count1': 4401, 'count2': 4403},\n",
       " {'id': 'https://openalex.org/I68763199', 'count1': 4335, 'count2': 4343},\n",
       " {'id': 'https://openalex.org/I2799803557', 'count1': 4308, 'count2': 4305},\n",
       " {'id': 'https://openalex.org/I4210160192', 'count1': 4181, 'count2': 4180},\n",
       " {'id': 'https://openalex.org/I179630473', 'count1': 4178, 'count2': 4180},\n",
       " {'id': 'https://openalex.org/I904013037', 'count1': 4044, 'count2': 4054},\n",
       " {'id': 'https://openalex.org/I4210100188', 'count1': 4033, 'count2': 4037},\n",
       " {'id': 'https://openalex.org/I118091203', 'count1': 4012, 'count2': 4019},\n",
       " {'id': 'https://openalex.org/I2802353815', 'count1': 3948, 'count2': 3945},\n",
       " {'id': 'https://openalex.org/I4210086614', 'count1': 3931, 'count2': 3935},\n",
       " {'id': 'https://openalex.org/I4210095952', 'count1': 3918, 'count2': 3925},\n",
       " {'id': 'https://openalex.org/I4210108548', 'count1': 3844, 'count2': 3851},\n",
       " {'id': 'https://openalex.org/I3123915005', 'count1': 3842, 'count2': 3849},\n",
       " {'id': 'https://openalex.org/I4210129578', 'count1': 3842, 'count2': 3843},\n",
       " {'id': 'https://openalex.org/I4210157481', 'count1': 3806, 'count2': 3808},\n",
       " {'id': 'https://openalex.org/I4210140856', 'count1': 3772, 'count2': 3773},\n",
       " {'id': 'https://openalex.org/I4210106702', 'count1': 3763, 'count2': 3767},\n",
       " {'id': 'https://openalex.org/I4210092123', 'count1': 3663, 'count2': 3665},\n",
       " {'id': 'https://openalex.org/I4210101151', 'count1': 3658, 'count2': 3660},\n",
       " {'id': 'https://openalex.org/I2809107791', 'count1': 3572, 'count2': 3576},\n",
       " {'id': 'https://openalex.org/I4210097920', 'count1': 3558, 'count2': 3559},\n",
       " {'id': 'https://openalex.org/I105140100', 'count1': 3546, 'count2': 3549},\n",
       " {'id': 'https://openalex.org/I4210104045', 'count1': 3545, 'count2': 3548},\n",
       " {'id': 'https://openalex.org/I4210126200', 'count1': 3543, 'count2': 3547},\n",
       " {'id': 'https://openalex.org/I4210152826', 'count1': 3474, 'count2': 3473},\n",
       " {'id': 'https://openalex.org/I4210106572', 'count1': 3343, 'count2': 3343},\n",
       " {'id': 'https://openalex.org/I4210087295', 'count1': 3311, 'count2': 3313},\n",
       " {'id': 'https://openalex.org/I4210158107', 'count1': 3301, 'count2': 3302},\n",
       " {'id': 'https://openalex.org/I4210129022', 'count1': 3290, 'count2': 3290},\n",
       " {'id': 'https://openalex.org/I4210135619', 'count1': 3228, 'count2': 3230}]"
      ]
     },
     "execution_count": 25,
     "metadata": {},
     "output_type": "execute_result"
    }
   ],
   "source": [
    "data"
   ]
  },
  {
   "cell_type": "code",
   "execution_count": null,
   "metadata": {},
   "outputs": [],
   "source": []
  }
 ],
 "metadata": {
  "kernelspec": {
   "display_name": "venv",
   "language": "python",
   "name": "python3"
  },
  "language_info": {
   "codemirror_mode": {
    "name": "ipython",
    "version": 3
   },
   "file_extension": ".py",
   "mimetype": "text/x-python",
   "name": "python",
   "nbconvert_exporter": "python",
   "pygments_lexer": "ipython3",
   "version": "3.9.12"
  },
  "orig_nbformat": 4,
  "vscode": {
   "interpreter": {
    "hash": "271691dbc4cdb85f541c883090ff5a004cbd8b9c207c2cfed84437fce4e65fdb"
   }
  }
 },
 "nbformat": 4,
 "nbformat_minor": 2
}
